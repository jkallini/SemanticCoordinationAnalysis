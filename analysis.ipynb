{
 "cells": [
  {
   "cell_type": "markdown",
   "metadata": {},
   "source": [
    "# Imports"
   ]
  },
  {
   "cell_type": "code",
   "execution_count": 1,
   "metadata": {},
   "outputs": [],
   "source": [
    "import pandas as pd\n",
    "import utils\n",
    "import warnings\n",
    "import numpy as np\n",
    "import pandas as pd\n",
    "import matplotlib.pyplot as plt\n",
    "import glob"
   ]
  },
  {
   "cell_type": "markdown",
   "metadata": {},
   "source": [
    "# Constants + Helper Functions"
   ]
  },
  {
   "cell_type": "code",
   "execution_count": 2,
   "metadata": {},
   "outputs": [],
   "source": [
    "CONJUNCTION_COLORS = {\n",
    "    \"and\": \"#be0aff\",\n",
    "    \"or\": \"#580aff\",\n",
    "    \"but\": \"#0043ce\",\n",
    "    \"nor\": \"#d12c19\"\n",
    "}\n",
    "\n",
    "LIKE_UNLIKE_COLORS = {\n",
    "    \"likes\": \"#008bf8\",\n",
    "    \"unlikes\": \"#dc0073\"\n",
    "}\n",
    "\n",
    "CATEGORY_COLORS = {\n",
    "    \"NP\": \"#ee1266\",\n",
    "    \"VP\": \"#6a4c93\",\n",
    "    \"ADJP\": \"#1982c4\",\n",
    "    \"ADVP\": \"#0ead69\",\n",
    "    \"PP\": \"#ff4b35\",\n",
    "    \"SBAR\": \"#00cecb\"\n",
    "}\n",
    "\n",
    "CONJUNCTIONS = ['and', 'or', 'but', 'nor']"
   ]
  },
  {
   "cell_type": "code",
   "execution_count": 3,
   "metadata": {},
   "outputs": [],
   "source": [
    "def gen_df_from_path(path):\n",
    "    '''\n",
    "    Concatenate all CSV files in the specified path and return\n",
    "    the result as a DataFrame.\n",
    "\n",
    "    @param path (str): path to input CSV files\n",
    "    @return (DataFrame): DataFrame containing all data\n",
    "    '''\n",
    "  \n",
    "    all_files = glob.glob(path)\n",
    "\n",
    "    # Concatenate all CSVs in the specified path into one dataframe\n",
    "    li = []\n",
    "    for filename in all_files:\n",
    "        df = pd.read_csv(filename, index_col=None, header=0)\n",
    "        li.append(df)\n",
    "\n",
    "    if li == []:\n",
    "        return None\n",
    "\n",
    "    df = pd.concat(li, axis=0, ignore_index=True)\n",
    "    return df"
   ]
  },
  {
   "cell_type": "markdown",
   "metadata": {},
   "source": [
    "# GUM"
   ]
  },
  {
   "cell_type": "code",
   "execution_count": 4,
   "metadata": {},
   "outputs": [],
   "source": [
    "# Load samples from GUM\n",
    "gum_samples = gen_df_from_path('csv/GUM/*.csv')\n",
    "\n",
    "# Get like coordinations\n",
    "gum_likes = utils.likes_df(gum_samples)\n",
    "\n",
    "# Finding closures over wordnet relations produces redundant search warnings\n",
    "# We'll just filter these warnings\n",
    "with warnings.catch_warnings():\n",
    "    warnings.simplefilter(\"ignore\")\n",
    "\n",
    "    # Get wordnet relations for like coordinations from GUM corpus\n",
    "    gum_synonymy_df = utils.analyze_synonymy(gum_likes)\n",
    "    gum_antonymy_df = utils.analyze_antonymy(gum_likes)\n",
    "    gum_hypernymy_df = utils.analyze_hypernymy(gum_likes)\n",
    "    gum_cohyponymy_df = utils.analyze_cohyponymy(gum_likes)\n",
    "    gum_entailment_df = utils.analyze_entailment(gum_likes)\n",
    "\n",
    "gum_synonyms = gum_synonymy_df[gum_synonymy_df['Synonyms?'] == True]\n",
    "utils.pretty_print(gum_synonyms, 'rtf/gum_synonyms.rtf')"
   ]
  },
  {
   "cell_type": "markdown",
   "metadata": {},
   "source": [
    "# Synonyms"
   ]
  },
  {
   "cell_type": "code",
   "execution_count": 5,
   "metadata": {},
   "outputs": [],
   "source": [
    "def get_synonyms_freqs(df):\n",
    "    # Get synonyms\n",
    "    syns = df.loc[(df['Synonyms?'] == True)]\n",
    "\n",
    "    # Get counts\n",
    "    syns_count = len(syns)\n",
    "    tot = len(df)\n",
    "\n",
    "    print('syns:', syns_count)\n",
    "    print('not syns:', tot - syns_count)\n",
    "\n",
    "    return syns_count / tot"
   ]
  },
  {
   "cell_type": "markdown",
   "metadata": {},
   "source": [
    "### By conjunction"
   ]
  },
  {
   "cell_type": "code",
   "execution_count": 6,
   "metadata": {},
   "outputs": [],
   "source": [
    "def synonym_conjunction_distribution(synonyms_df, source, outfile):\n",
    "\n",
    "    labels = []\n",
    "    syns_freqs = []\n",
    "\n",
    "    for conjunction in CONJUNCTIONS:\n",
    "        print(conjunction)\n",
    "\n",
    "        labels.append(conjunction)\n",
    "\n",
    "        df = synonyms_df.copy()\n",
    "        df = df.loc[df['Conjunction'] == conjunction]\n",
    "\n",
    "        if df is None:\n",
    "            continue\n",
    "\n",
    "        syns_freqs.append(get_synonyms_freqs(df))\n",
    "\n",
    "    x = np.arange(len(labels))  # the label locations\n",
    "    width = 0.6  # the width of the bars\n",
    "\n",
    "    fig, ax = plt.subplots()\n",
    "    rects1 = ax.bar(x, syns_freqs, width, color=CONJUNCTION_COLORS.values())\n",
    "\n",
    "    # Add some text for labels, title and custom x-axis tick labels, etc.\n",
    "    ax.set_ylabel('Percentage')\n",
    "    ax.set_title(\n",
    "        'Percentages of Coordinations with Synonymy\\nby Conjunction (' + source + ')')\n",
    "    ax.set_xticks(x)\n",
    "    ax.set_xticklabels(labels)\n",
    "\n",
    "    for rect in rects1:\n",
    "        height = rect.get_height()\n",
    "        ax.annotate('{:.3f}'.format(height),\n",
    "                    xy=(rect.get_x() + rect.get_width() / 2, height),\n",
    "                    xytext=(0, -12),\n",
    "                    textcoords=\"offset points\",\n",
    "                    ha='center', va='bottom', color='white')\n",
    "\n",
    "    plt.savefig(outfile, bbox_inches='tight')\n"
   ]
  },
  {
   "cell_type": "code",
   "execution_count": 7,
   "metadata": {},
   "outputs": [
    {
     "name": "stdout",
     "output_type": "stream",
     "text": [
      "and\n",
      "syns: 64\n",
      "not syns: 2236\n",
      "or\n",
      "syns: 11\n",
      "not syns: 321\n",
      "but\n",
      "syns: 7\n",
      "not syns: 214\n",
      "nor\n",
      "syns: 1\n",
      "not syns: 7\n"
     ]
    },
    {
     "data": {
      "image/png": "[encoded data removed]",
      "text/plain": [
       "<Figure size 432x288 with 1 Axes>"
      ]
     },
     "metadata": {
      "needs_background": "light"
     },
     "output_type": "display_data"
    }
   ],
   "source": [
    "synonym_conjunction_distribution(gum_synonymy_df, 'GUM', 'charts/GUM_synonymy_by_conjunction.pdf')"
   ]
  },
  {
   "cell_type": "markdown",
   "metadata": {},
   "source": [
    "### By category"
   ]
  },
  {
   "cell_type": "code",
   "execution_count": 8,
   "metadata": {},
   "outputs": [],
   "source": [
    "def synonym_category_distribution(synonyms_df, source, outfile):\n",
    "    labels = []\n",
    "    syns_freqs = []\n",
    "\n",
    "    nouns, verbs, adjps, advps = utils.likes_by_category(synonyms_df)\n",
    "\n",
    "    print('Nominal')\n",
    "    labels.append('Nominal')\n",
    "\n",
    "    syns_freqs.append(get_synonyms_freqs(nouns))\n",
    "\n",
    "    print('Verbal')\n",
    "    labels.append('Verbal')\n",
    "\n",
    "    syns_freqs.append(get_synonyms_freqs(verbs))\n",
    "\n",
    "    print('Adjectival')\n",
    "    labels.append('Adjectival')\n",
    "\n",
    "    syns_freqs.append(get_synonyms_freqs(adjps))\n",
    "\n",
    "    print('Adverbial')\n",
    "    labels.append('Adverbial')\n",
    "\n",
    "    syns_freqs.append(get_synonyms_freqs(advps))\n",
    "\n",
    "    x = np.arange(len(labels))  # the label locations\n",
    "    width = 0.6  # the width of the bars\n",
    "\n",
    "    fig, ax = plt.subplots()\n",
    "    rects1 = ax.bar(x, syns_freqs, width, color=CATEGORY_COLORS.values())\n",
    "\n",
    "    # Add some text for labels, title and custom x-axis tick labels, etc.\n",
    "    ax.set_ylabel('Percentage')\n",
    "    ax.set_title('Percentages of Coordinations with Synonymy\\nby Syntactic Category (' + source + ')')\n",
    "    ax.set_xticks(x)\n",
    "    ax.set_xticklabels(labels)\n",
    "\n",
    "    for rect in rects1:\n",
    "        height = rect.get_height()\n",
    "        ax.annotate('{:.3f}'.format(height),\n",
    "                    xy=(rect.get_x() + rect.get_width() / 2, height),\n",
    "                    xytext=(0, -12),\n",
    "                    textcoords=\"offset points\",\n",
    "                    ha='center', va='bottom', color='white')\n",
    "\n",
    "    plt.savefig(outfile, bbox_inches='tight')"
   ]
  },
  {
   "cell_type": "code",
   "execution_count": 9,
   "metadata": {},
   "outputs": [
    {
     "name": "stdout",
     "output_type": "stream",
     "text": [
      "Nominal\n",
      "syns: 17\n",
      "not syns: 1136\n",
      "Verbal\n",
      "syns: 59\n",
      "not syns: 1320\n",
      "Adjectival\n",
      "syns: 6\n",
      "not syns: 265\n",
      "Adverbial\n",
      "syns: 1\n",
      "not syns: 57\n"
     ]
    },
    {
     "data": {
      "image/png": "[encoded data removed]",
      "text/plain": [
       "<Figure size 432x288 with 1 Axes>"
      ]
     },
     "metadata": {
      "needs_background": "light"
     },
     "output_type": "display_data"
    }
   ],
   "source": [
    "synonym_category_distribution(gum_synonymy_df, 'GUM', 'charts/GUM_synonymy_by_category.pdf')"
   ]
  }
 ],
 "metadata": {
  "interpreter": {
   "hash": "90d1250365b552bac7bd3e3505e64c228a1a6f7c9121581557d7a3f6f706e389"
  },
  "kernelspec": {
   "display_name": "Python 3.8.8 64-bit ('env': venv)",
   "name": "python3"
  },
  "language_info": {
   "codemirror_mode": {
    "name": "ipython",
    "version": 3
   },
   "file_extension": ".py",
   "mimetype": "text/x-python",
   "name": "python",
   "nbconvert_exporter": "python",
   "pygments_lexer": "ipython3",
   "version": "3.7.4"
  },
  "orig_nbformat": 4
 },
 "nbformat": 4,
 "nbformat_minor": 2
}
