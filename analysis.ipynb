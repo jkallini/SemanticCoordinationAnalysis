{
 "cells": [
  {
   "cell_type": "markdown",
   "metadata": {},
   "source": [
    "# Imports"
   ]
  },
  {
   "cell_type": "code",
   "execution_count": 1,
   "metadata": {},
   "outputs": [],
   "source": [
    "import pandas as pd\n",
    "import utils\n",
    "import warnings\n",
    "import numpy as np\n",
    "import pandas as pd\n",
    "import matplotlib.pyplot as plt\n",
    "import glob\n",
    "from upos import upos\n",
    "from scipy.stats import chi2_contingency, chi2, chisquare"
   ]
  },
  {
   "cell_type": "markdown",
   "metadata": {},
   "source": [
    "# Constants + Helper Functions"
   ]
  },
  {
   "cell_type": "code",
   "execution_count": 2,
   "metadata": {},
   "outputs": [],
   "source": [
    "CONJUNCTION_COLORS = {\n",
    "    \"and\": \"#be0aff\",\n",
    "    \"or\": \"#580aff\",\n",
    "    \"but\": \"#0043ce\",\n",
    "    \"nor\": \"#d12c19\"\n",
    "}\n",
    "\n",
    "CONJUNCTION_COLORS = {\n",
    "    \"and\": \"#9B5DE5\",\n",
    "    \"or\": \"#00BBF9\",\n",
    "    \"but\": \"#38b000\",\n",
    "    \"nor\": \"#d90429\",\n",
    "}\n",
    "\n",
    "LIKE_UNLIKE_COLORS = {\n",
    "    \"likes\": \"#008bf8\",\n",
    "    \"unlikes\": \"#dc0073\"\n",
    "}\n",
    "\n",
    "CATEGORY_COLORS = {\n",
    "    \"NP\": \"#ee1266\",\n",
    "    \"VP\": \"#6a4c93\",\n",
    "    \"ADJP\": \"#1982c4\",\n",
    "    \"ADVP\": \"#0ead69\",\n",
    "    \"PP\": \"#ff4b35\",\n",
    "    \"SBAR\": \"#00cecb\"\n",
    "}\n",
    "\n",
    "CONJUNCTIONS = ['and', 'or', 'but'] #, 'nor']\n",
    "\n",
    "CATEGORIES = [upos.NOUN, upos.VERB, upos.ADJ, upos.ADV]"
   ]
  },
  {
   "cell_type": "code",
   "execution_count": 3,
   "metadata": {},
   "outputs": [],
   "source": [
    "def get_df_from_path(path):\n",
    "    '''\n",
    "    Concatenate all CSV files in the specified path and return\n",
    "    the result as a DataFrame.\n",
    "\n",
    "    @param path (str): path to input CSV files\n",
    "    @return (DataFrame): DataFrame containing all data\n",
    "    '''\n",
    "  \n",
    "    all_files = glob.glob(path)\n",
    "\n",
    "    # Concatenate all CSVs in the specified path into one dataframe\n",
    "    li = []\n",
    "    for filename in all_files:\n",
    "        df = pd.read_csv(filename, index_col=None, header=0)\n",
    "        li.append(df)\n",
    "\n",
    "    if li == []:\n",
    "        return None\n",
    "\n",
    "    df = pd.concat(li, axis=0, ignore_index=True)\n",
    "    return df"
   ]
  },
  {
   "cell_type": "code",
   "execution_count": 4,
   "metadata": {},
   "outputs": [],
   "source": [
    "def get_wordnet_dfs(df):\n",
    "    '''\n",
    "    Get five DataFrames for each WordNet relation (synonymy, antonymy,\n",
    "    hypernymy, co-hyponymy, entailment) using examples from the given\n",
    "    input df.\n",
    "\n",
    "    @param df (DataFrame): input of raw coordination samples\n",
    "    @return (5-tuple of DataFrames): tuple containing a DataFrame for each\n",
    "        WordNet relation (synonymy_df, antonymy_df, hypernymy_df,\n",
    "        cohyponymy_df, entailment_df)\n",
    "    '''\n",
    "    \n",
    "    # Get like coordinations\n",
    "    likes = utils.likes_df(df)\n",
    "\n",
    "    # Finding closures over wordnet relations produces redundant search warnings\n",
    "    # We'll just filter these warnings\n",
    "    with warnings.catch_warnings():\n",
    "        warnings.simplefilter(\"ignore\")\n",
    "\n",
    "        # Get wordnet relations for like coordinations\n",
    "        synonymy_df = utils.analyze_synonymy(likes)\n",
    "        antonymy_df = utils.analyze_antonymy(likes)\n",
    "        hypernymy_df = utils.analyze_hypernymy(likes)\n",
    "        cohyponymy_df = utils.analyze_cohyponymy(likes)\n",
    "        entailment_df = utils.analyze_entailment(likes)\n",
    "\n",
    "    return (synonymy_df, antonymy_df, hypernymy_df, cohyponymy_df, entailment_df)"
   ]
  },
  {
   "cell_type": "markdown",
   "metadata": {},
   "source": [
    "### Chi-square Test for Goodness of Fit"
   ]
  },
  {
   "cell_type": "code",
   "execution_count": 5,
   "metadata": {},
   "outputs": [],
   "source": [
    "def chi2_goodness_of_fit(observed):\n",
    "    print(\"Chi-square Test for Goodness of Fit\\n\")\n",
    "\n",
    "    N = sum(observed)\n",
    "    expected = [N / len(observed)] * len(observed)\n",
    "    stat, p = chisquare(f_obs=observed, f_exp=expected)\n",
    "\n",
    "    prob = 0.95\n",
    "    alpha = 1.0 - prob\n",
    "\n",
    "    print('Observed:', observed)\n",
    "    print('Expected:', expected)\n",
    "    print('N={}'.format(N))\n",
    "    print('Degrees of Freedom = %d' % (len(observed) - 1))\n",
    "\n",
    "    # interpret p-value\n",
    "    print('stat=%.3f, p=%.3f' % (stat, p))\n",
    "    if p <= alpha:\n",
    "        print('Dependent (reject H0)')\n",
    "    else:\n",
    "        print('Independent (fail to reject H0)')\n",
    "\n",
    "    print()"
   ]
  },
  {
   "cell_type": "markdown",
   "metadata": {},
   "source": [
    "### Chi-square Test of Association\n",
    "Adapted from https://machinelearningmastery.com/chi-squared-test-for-machine-learning/"
   ]
  },
  {
   "cell_type": "code",
   "execution_count": 6,
   "metadata": {},
   "outputs": [],
   "source": [
    "def chi2_association_test(table):\n",
    "    print(\"Chi-square Test of Association\\n\")\n",
    "\n",
    "    N = sum([sum(l) for l in table])\n",
    "    stat, p, dof, expected = chi2_contingency(table)\n",
    "    \n",
    "    print('Observed:', table)\n",
    "    print('Expected:', expected)\n",
    "    print('N={}'.format(N))\n",
    "    print('Degrees of Freedom = %d' % dof)\n",
    "\n",
    "    # interpret test-statistic\n",
    "    prob = 0.95\n",
    "    critical = chi2.ppf(prob, dof)\n",
    "    print('probability=%.3f, critical=%.3f, stat=%.3f' %\n",
    "          (prob, critical, stat))\n",
    "    if abs(stat) >= critical:\n",
    "        print('Dependent (reject H0)')\n",
    "    else:\n",
    "        print('Independent (fail to reject H0)')\n",
    "\n",
    "    # interpret p-value\n",
    "    alpha = 1.0 - prob\n",
    "    print('significance=%.3f, p=%.3f' % (alpha, p))\n",
    "    if p <= alpha:\n",
    "        print('Dependent (reject H0)')\n",
    "    else:\n",
    "        print('Independent (fail to reject H0)')\n",
    "\n",
    "    print()\n",
    "\n",
    "\n",
    "def chi2_by_conjunction(relation_df, freq_func, conjunctions=CONJUNCTIONS):\n",
    "\n",
    "    group1_freqs = []\n",
    "    group2_freqs = []\n",
    "\n",
    "    for conjunction in conjunctions:\n",
    "\n",
    "        df = relation_df.copy()\n",
    "        df = df.loc[df['Conjunction'] == conjunction]\n",
    "\n",
    "        if df is None:\n",
    "            continue\n",
    "\n",
    "        group1_freq, group2_freq = freq_func(df, raw=True)\n",
    "        group1_freqs.append(group1_freq)\n",
    "        group2_freqs.append(group2_freq)\n",
    "\n",
    "    chi2_association_test([group1_freqs, group2_freqs])\n",
    "\n",
    "\n",
    "def chi2_by_category(relation_df, freq_func, categories=CATEGORIES):\n",
    "\n",
    "    group1_freqs = []\n",
    "    group2_freqs = []\n",
    "\n",
    "    for category in categories:\n",
    "\n",
    "        df = relation_df.copy()\n",
    "        df = df.loc[(df['1st Conjunct Category'] == category) &\n",
    "                    (df['2nd Conjunct Category'] == category)]\n",
    "\n",
    "        if df is None:\n",
    "            continue\n",
    "\n",
    "        group1_freq, group2_freq = freq_func(df, raw=True)\n",
    "        group1_freqs.append(group1_freq)\n",
    "        group2_freqs.append(group2_freq)\n",
    "\n",
    "    chi2_association_test([group1_freqs, group2_freqs])"
   ]
  },
  {
   "cell_type": "markdown",
   "metadata": {},
   "source": [
    "### Plotting Distributions on Single-Bar Charts"
   ]
  },
  {
   "cell_type": "code",
   "execution_count": 7,
   "metadata": {},
   "outputs": [],
   "source": [
    "def plot_single_bar(labels, freqs, title, outfile, colors, ylabel='Percentage (%)'):\n",
    "\n",
    "    x = np.arange(len(labels))  # the label locations\n",
    "    width = 0.6  # the width of the bars\n",
    "    freqs = [f * 100 for f in freqs]\n",
    "\n",
    "    _, ax = plt.subplots()\n",
    "    rects1 = ax.bar(x, freqs, width, color=colors)\n",
    "\n",
    "    # Add some text for labels, title and custom x-axis tick labels, etc.\n",
    "    ax.set_ylabel(ylabel)\n",
    "    ax.set_title(title)\n",
    "    ax.set_xticks(x)\n",
    "    ax.set_xticklabels(labels)\n",
    "\n",
    "    for rect in rects1:\n",
    "        height = rect.get_height()\n",
    "        ax.annotate('{:.1f}'.format(height) + '%',\n",
    "                    xy=(rect.get_x() + rect.get_width() / 2, height),\n",
    "                    xytext=(0, -12),\n",
    "                    textcoords=\"offset points\",\n",
    "                    ha='center', va='bottom', color='white')\n",
    "\n",
    "    plt.savefig(outfile, bbox_inches='tight')"
   ]
  },
  {
   "cell_type": "code",
   "execution_count": 8,
   "metadata": {},
   "outputs": [],
   "source": [
    "def distribution_by_conjunction(relation_df, freq_func, relation_title, outfile,\n",
    "    conjunctions=CONJUNCTIONS, source=None):\n",
    "\n",
    "    labels = []\n",
    "    freqs = []\n",
    "\n",
    "    for conjunction in conjunctions:\n",
    "\n",
    "        labels.append(conjunction)\n",
    "\n",
    "        df = relation_df.copy()\n",
    "        df = df.loc[df['Conjunction'] == conjunction]\n",
    "\n",
    "        if df is None:\n",
    "            continue\n",
    "\n",
    "        freqs.append(freq_func(df))\n",
    "\n",
    "    title = 'Percentages of Coordinations with {}\\nby Conjunction'.format(\n",
    "        relation_title)\n",
    "    if source is not None:\n",
    "        title = title + ' ({})'.format(source)\n",
    "\n",
    "    plot_single_bar(labels, freqs, title, outfile, CONJUNCTION_COLORS.values())"
   ]
  },
  {
   "cell_type": "code",
   "execution_count": 9,
   "metadata": {},
   "outputs": [],
   "source": [
    "def distribution_by_category(relation_df, freq_func, relation_title, outfile,\n",
    "    categories=CATEGORIES, source=None):\n",
    "\n",
    "    labels = []\n",
    "    freqs = []\n",
    "\n",
    "    nouns, verbs, adjps, advps = utils.likes_by_category(relation_df)\n",
    "\n",
    "    if upos.NOUN in categories:\n",
    "        labels.append('Nominal')\n",
    "        freqs.append(freq_func(nouns))\n",
    "\n",
    "    if upos.VERB in categories:\n",
    "        labels.append('Verbal')\n",
    "        freqs.append(freq_func(verbs))\n",
    "\n",
    "    if upos.ADJ in categories:\n",
    "        labels.append('Adjectival')\n",
    "        freqs.append(freq_func(adjps))\n",
    "\n",
    "    if upos.ADV in categories:\n",
    "        labels.append('Adverbial')\n",
    "        freqs.append(freq_func(advps))\n",
    "\n",
    "    title = 'Percentages of Coordinations with {}\\nby Syntactic Category'.format(\n",
    "        relation_title)\n",
    "    if source is not None:\n",
    "        title = title + ' ({})'.format(source)\n",
    "\n",
    "    plot_single_bar(labels, freqs, title, outfile, CATEGORY_COLORS.values())"
   ]
  },
  {
   "cell_type": "markdown",
   "metadata": {},
   "source": [
    "### Plotting Distributions for Double-Bar Charts"
   ]
  },
  {
   "cell_type": "code",
   "execution_count": 10,
   "metadata": {},
   "outputs": [],
   "source": [
    "def plot_double_bar(labels, sublabels, freqs1, freqs2, title, outfile):\n",
    "\n",
    "    x = np.arange(len(labels))  # the label locations\n",
    "    width = 0.45  # the width of the bars\n",
    "    freqs1 = [f * 100 for f in freqs1]\n",
    "    freqs2 = [f * 100 for f in freqs2]\n",
    "\n",
    "    _, ax = plt.subplots()\n",
    "    rects1 = ax.bar(x - width/2, freqs1, width,\n",
    "                    label=sublabels[0])\n",
    "    rects2 = ax.bar(x + width/2, freqs2, width,\n",
    "                    label=sublabels[1])\n",
    "\n",
    "    # Add some text for labels, title and custom x-axis tick labels, etc.\n",
    "    ax.set_ylabel('Percentage (%)')\n",
    "    ax.set_title(title)\n",
    "    ax.set_xticks(x)\n",
    "    ax.set_xticklabels(labels)\n",
    "    ax.legend(loc='center left', bbox_to_anchor=(0, 0.1))\n",
    "\n",
    "    for rect in rects1:\n",
    "        height = rect.get_height()\n",
    "        ax.annotate('{:.1f}'.format(height) + '%',\n",
    "                    xy=(rect.get_x() + rect.get_width() / 2, height),\n",
    "                    xytext=(0, -12),\n",
    "                    textcoords=\"offset points\",\n",
    "                    ha='center', va='bottom', color='white')\n",
    "\n",
    "    for rect in rects2:\n",
    "        height = rect.get_height()\n",
    "        ax.annotate('{:.1f}'.format(height) + '%',\n",
    "                    xy=(rect.get_x() + rect.get_width() / 2, height),\n",
    "                    xytext=(0, -12),\n",
    "                    textcoords=\"offset points\",\n",
    "                    ha='center', va='bottom')\n",
    "\n",
    "    plt.savefig(outfile, bbox_inches='tight')"
   ]
  },
  {
   "cell_type": "code",
   "execution_count": 11,
   "metadata": {},
   "outputs": [],
   "source": [
    "def double_distribution_by_conjunction(relation_df, freq_func, relation_title,\n",
    "    sublabels, outfile, conjunctions=CONJUNCTIONS, source=None):\n",
    "\n",
    "    labels = []\n",
    "    freqs1 = []\n",
    "    freqs2 = []\n",
    "\n",
    "    for conjunction in conjunctions:\n",
    "\n",
    "        labels.append(conjunction)\n",
    "\n",
    "        df = relation_df.copy()\n",
    "        df = df.loc[df['Conjunction'] == conjunction]\n",
    "\n",
    "        if df is None:\n",
    "            continue\n",
    "\n",
    "        freq1, freq2 = freq_func(df)\n",
    "        freqs1.append(freq1)\n",
    "        freqs2.append(freq2)\n",
    "\n",
    "    title = 'Percentages of Coordinations with {}\\nby Conjunction'.format(\n",
    "        relation_title)\n",
    "    if source is not None:\n",
    "        title = title + ' ({})'.format(source)\n",
    "\n",
    "    plot_double_bar(labels, sublabels, freqs1, freqs2, title, outfile)"
   ]
  },
  {
   "cell_type": "code",
   "execution_count": 12,
   "metadata": {},
   "outputs": [],
   "source": [
    "def double_distribution_by_category(relation_df, freq_func, relation_title,\n",
    "    sublabels, outfile, categories=CATEGORIES, source=None):\n",
    "\n",
    "    labels = []\n",
    "    freqs1 = []\n",
    "    freqs2 = []\n",
    "\n",
    "    nouns, verbs, adjps, advps = utils.likes_by_category(relation_df)\n",
    "\n",
    "    if upos.NOUN in categories:\n",
    "        labels.append('Nominal')\n",
    "        freq1, freq2 = freq_func(nouns)\n",
    "        freqs1.append(freq1)\n",
    "        freqs2.append(freq2)\n",
    "\n",
    "    if upos.VERB in categories:\n",
    "        labels.append('Verbal')\n",
    "        freq1, freq2 = freq_func(verbs)\n",
    "        freqs1.append(freq1)\n",
    "        freqs2.append(freq2)\n",
    "\n",
    "    if upos.ADJ in categories:\n",
    "        labels.append('Adjectival')\n",
    "        freq1, freq2 = freq_func(adjps)\n",
    "        freqs1.append(freq1)\n",
    "        freqs2.append(freq2)\n",
    "\n",
    "    if upos.ADV in categories:\n",
    "        labels.append('Adverbial')\n",
    "        freq1, freq2 = freq_func(advps)\n",
    "        freqs1.append(freq1)\n",
    "        freqs2.append(freq2)\n",
    "\n",
    "    title = 'Percentages of Coordinations with {}\\nby Category'.format(\n",
    "        relation_title)\n",
    "    if source is not None:\n",
    "        title = title + ' ({})'.format(source)\n",
    "\n",
    "    plot_double_bar(labels, sublabels, freqs1, freqs2, title, outfile)"
   ]
  },
  {
   "cell_type": "markdown",
   "metadata": {},
   "source": [
    "# Load Data and Get WordNet Relations"
   ]
  },
  {
   "cell_type": "code",
   "execution_count": 13,
   "metadata": {},
   "outputs": [],
   "source": [
    "# GUM\n",
    "gum_samples = get_df_from_path('csv/GUM/*.csv')\n",
    "gum_synonymy_df, gum_antonymy_df, gum_hypernymy_df, gum_cohyponymy_df, gum_entailment_df \\\n",
    "    = get_wordnet_dfs(gum_samples)\n",
    "\n",
    "# EWT\n",
    "ewt_samples = get_df_from_path('csv/EWT/*.csv')\n",
    "ewt_synonymy_df, ewt_antonymy_df, ewt_hypernymy_df, ewt_cohyponymy_df, ewt_entailment_df \\\n",
    "    = get_wordnet_dfs(ewt_samples)\n",
    "\n",
    "# PUD\n",
    "pud_samples = get_df_from_path('csv/PUD/*.csv')\n",
    "pud_synonymy_df, pud_antonymy_df, pud_hypernymy_df, pud_cohyponymy_df, pud_entailment_df \\\n",
    "    = get_wordnet_dfs(pud_samples)\n",
    "\n",
    "# All sources\n",
    "all_samples = utils.likes_df(pd.concat([gum_samples, ewt_samples, pud_samples]))\n",
    "all_synonymy_df = pd.concat(\n",
    "    [gum_synonymy_df, ewt_synonymy_df, pud_synonymy_df], axis=0, ignore_index=True)\n",
    "all_antonymy_df = pd.concat(\n",
    "    [gum_antonymy_df, ewt_antonymy_df, pud_antonymy_df], axis=0, ignore_index=True)\n",
    "all_hypernymy_df = pd.concat(\n",
    "    [gum_hypernymy_df, ewt_hypernymy_df, pud_hypernymy_df], axis=0, ignore_index=True)\n",
    "all_cohyponymy_df = pd.concat(\n",
    "    [gum_cohyponymy_df, ewt_cohyponymy_df, pud_cohyponymy_df], axis=0, ignore_index=True)\n",
    "all_entailment_df = pd.concat(\n",
    "    [gum_entailment_df, ewt_entailment_df, pud_entailment_df], axis=0, ignore_index=True)\n",
    "\n",
    "utils.pretty_print(all_synonymy_df[all_synonymy_df['Synonyms?']], 'rtf/synonyms.rtf')\n",
    "utils.pretty_print(all_antonymy_df[all_antonymy_df['Antonyms?']], 'rtf/antonyms.rtf')\n",
    "utils.pretty_print(all_hypernymy_df[all_hypernymy_df['1st Conjunct Hypernym?']], 'rtf/1st_hypernyms.rtf')\n",
    "utils.pretty_print(all_hypernymy_df[all_hypernymy_df['2nd Conjunct Hypernym?']], 'rtf/2nd_hypernyms.rtf')\n",
    "utils.pretty_print(all_cohyponymy_df[all_cohyponymy_df['Co-hyponyms?']], 'rtf/co-hyponyms.rtf')\n",
    "utils.pretty_print(all_entailment_df[all_entailment_df['1st Conjunct Entails 2nd?']], 'rtf/1st_entailments.rtf')\n",
    "utils.pretty_print(all_entailment_df[all_entailment_df['2nd Conjunct Entails 1st?']], 'rtf/2nd_entailments.rtf')"
   ]
  },
  {
   "cell_type": "markdown",
   "metadata": {},
   "source": [
    "# Overall Statistics"
   ]
  },
  {
   "cell_type": "code",
   "execution_count": 14,
   "metadata": {},
   "outputs": [
    {
     "name": "stdout",
     "output_type": "stream",
     "text": [
      "Total like coordination count: 6950\n",
      "Like coordinations with conjuncts present in WordNet: 6405\n"
     ]
    }
   ],
   "source": [
    "print('Total like coordination count:', len(all_samples))\n",
    "\n",
    "all_samples['In WordNet?'] = all_samples.apply(lambda row:\n",
    "    utils.in_wordnet(row['1st Conjunct Lemma'], row['1st Conjunct Category']) and\n",
    "    utils.in_wordnet(row['2nd Conjunct Lemma'], row['1st Conjunct Category']),\n",
    "    axis=1)\n",
    "\n",
    "print('Like coordinations with conjuncts present in WordNet:', len(all_samples[all_samples['In WordNet?']]))"
   ]
  },
  {
   "cell_type": "code",
   "execution_count": 15,
   "metadata": {},
   "outputs": [
    {
     "name": "stdout",
     "output_type": "stream",
     "text": [
      "Chi-square Test for Goodness of Fit\n",
      "\n",
      "Observed: [5618, 732, 583, 17]\n",
      "Expected: [1737.5, 1737.5, 1737.5, 1737.5]\n",
      "N=6950\n",
      "Degrees of Freedom = 3\n",
      "stat=11719.310, p=0.000\n",
      "Dependent (reject H0)\n",
      "\n"
     ]
    },
    {
     "data": {
      "image/png": "[encoded data removed]",
      "text/plain": [
       "<Figure size 432x288 with 1 Axes>"
      ]
     },
     "metadata": {
      "needs_background": "light"
     },
     "output_type": "display_data"
    }
   ],
   "source": [
    "and_count = len(all_samples[all_samples['Conjunction'] == 'and'])\n",
    "or_count = len(all_samples[all_samples['Conjunction'] == 'or'])\n",
    "but_count = len(all_samples[all_samples['Conjunction'] == 'but'])\n",
    "nor_count = len(all_samples[all_samples['Conjunction'] == 'nor'])\n",
    "\n",
    "conj_counts = [and_count, or_count, but_count, nor_count]\n",
    "conj_dist = [count / sum(conj_counts) for count in conj_counts]\n",
    "chi2_goodness_of_fit(conj_counts)\n",
    "plot_single_bar(['and', 'or', 'but', 'nor'], conj_dist,\n",
    "'Coordination Phrase Frequencies by Conjunction', 'charts/conjunction_frequencies.pdf',\n",
    "CONJUNCTION_COLORS.values(), 'Relative Frequency')"
   ]
  },
  {
   "cell_type": "markdown",
   "metadata": {},
   "source": [
    "# Synonymy"
   ]
  },
  {
   "cell_type": "code",
   "execution_count": 16,
   "metadata": {},
   "outputs": [],
   "source": [
    "def get_synonyms_freqs(df, raw=False):\n",
    "    # Get synonyms\n",
    "    syns = df.loc[(df['Synonyms?'] == True)]\n",
    "\n",
    "    # Get counts\n",
    "    syns_count = len(syns)\n",
    "    tot = len(df)\n",
    "\n",
    "    if raw:\n",
    "        return (syns_count, tot - syns_count)\n",
    "        \n",
    "    return syns_count / tot if tot != 0 else 0"
   ]
  },
  {
   "cell_type": "markdown",
   "metadata": {},
   "source": [
    "### By Conjunction"
   ]
  },
  {
   "cell_type": "code",
   "execution_count": 17,
   "metadata": {},
   "outputs": [
    {
     "name": "stdout",
     "output_type": "stream",
     "text": [
      "Chi-square Test of Association\n",
      "\n",
      "Observed: [[156, 23, 17], [5279, 669, 558]]\n",
      "Expected: [[ 158.94658311   20.23754103   16.81587586]\n",
      " [5276.05341689  671.76245897  558.18412414]]\n",
      "N=6702\n",
      "Degrees of Freedom = 2\n",
      "probability=0.950, critical=5.991, stat=0.447\n",
      "Independent (fail to reject H0)\n",
      "significance=0.050, p=0.800\n",
      "Independent (fail to reject H0)\n",
      "\n"
     ]
    },
    {
     "data": {
      "image/png": "[encoded data removed]",
      "text/plain": [
       "<Figure size 432x288 with 1 Axes>"
      ]
     },
     "metadata": {
      "needs_background": "light"
     },
     "output_type": "display_data"
    }
   ],
   "source": [
    "def synonym_conjunction_distribution(df, outfile, source=None):\n",
    "    distribution_by_conjunction(df, get_synonyms_freqs, \"Synonymy\", outfile, source=source)\n",
    "\n",
    "chi2_by_conjunction(all_synonymy_df, get_synonyms_freqs)\n",
    "synonym_conjunction_distribution(all_synonymy_df, 'charts/synonymy_by_conjunction.pdf')\n",
    "# synonym_conjunction_distribution(gum_synonymy_df, 'charts/GUM_synonymy_by_conjunction.pdf', source='GUM')\n",
    "# synonym_conjunction_distribution(ewt_synonymy_df, 'charts/EWT_synonymy_by_conjunction.pdf', source='EWT')\n",
    "# synonym_conjunction_distribution(pud_synonymy_df, 'charts/PUD_synonymy_by_conjunction.pdf', source='PUD')"
   ]
  },
  {
   "cell_type": "markdown",
   "metadata": {},
   "source": [
    "### By Category"
   ]
  },
  {
   "cell_type": "code",
   "execution_count": 18,
   "metadata": {},
   "outputs": [
    {
     "name": "stdout",
     "output_type": "stream",
     "text": [
      "Chi-square Test of Association\n",
      "\n",
      "Observed: [[38, 142, 15, 2], [2439, 3353, 625, 105]]\n",
      "Expected: [[7.26252419e+01 1.02472838e+02 1.87646971e+01 3.13722280e+00]\n",
      " [2.40437476e+03 3.39252716e+03 6.21235303e+02 1.03862777e+02]]\n",
      "N=6719\n",
      "Degrees of Freedom = 3\n",
      "probability=0.950, critical=7.815, stat=33.917\n",
      "Dependent (reject H0)\n",
      "significance=0.050, p=0.000\n",
      "Dependent (reject H0)\n",
      "\n"
     ]
    },
    {
     "data": {
      "image/png": "[encoded data removed]",
      "text/plain": [
       "<Figure size 432x288 with 1 Axes>"
      ]
     },
     "metadata": {
      "needs_background": "light"
     },
     "output_type": "display_data"
    }
   ],
   "source": [
    "def synonym_category_distribution(df, outfile, source=None):\n",
    "    distribution_by_category(df, get_synonyms_freqs, \"Synonymy\", outfile, source=source)\n",
    "\n",
    "chi2_by_category(all_synonymy_df, get_synonyms_freqs)\n",
    "synonym_category_distribution(all_synonymy_df, 'charts/synonymy_by_category.pdf')\n",
    "# synonym_category_distribution(gum_synonymy_df, 'charts/GUM_synonymy_by_category.pdf', source='GUM')\n",
    "# synonym_category_distribution(ewt_synonymy_df, 'charts/EWT_synonymy_by_category.pdf', source='EWT')\n",
    "# synonym_category_distribution(pud_synonymy_df, 'charts/PUD_synonymy_by_category.pdf', source='PUD')"
   ]
  },
  {
   "cell_type": "markdown",
   "metadata": {},
   "source": [
    "# Antonymy"
   ]
  },
  {
   "cell_type": "code",
   "execution_count": 19,
   "metadata": {},
   "outputs": [],
   "source": [
    "def get_antonyms_freqs(df, raw=False):\n",
    "    # Get antonyms\n",
    "    ants = df.loc[(df['Antonyms?'] == True)]\n",
    "    ants.reset_index(drop=True, inplace=True)\n",
    "\n",
    "    # Get counts\n",
    "    count_ants = len(ants.index)\n",
    "    tot = len(df.index)\n",
    "\n",
    "    if raw:\n",
    "        return (count_ants, tot - count_ants)\n",
    "    return count_ants / tot if tot != 0 else 0\n"
   ]
  },
  {
   "cell_type": "markdown",
   "metadata": {},
   "source": [
    "### By Conjunction"
   ]
  },
  {
   "cell_type": "code",
   "execution_count": 20,
   "metadata": {},
   "outputs": [
    {
     "name": "stdout",
     "output_type": "stream",
     "text": [
      "Chi-square Test of Association\n",
      "\n",
      "Observed: [[38, 13, 1], [567, 51, 52]]\n",
      "Expected: [[ 43.5734072    4.60941828   3.81717452]\n",
      " [561.4265928   59.39058172  49.18282548]]\n",
      "N=722\n",
      "Degrees of Freedom = 2\n",
      "probability=0.950, critical=5.991, stat=19.468\n",
      "Dependent (reject H0)\n",
      "significance=0.050, p=0.000\n",
      "Dependent (reject H0)\n",
      "\n"
     ]
    },
    {
     "data": {
      "image/png": "[encoded data removed]",
      "text/plain": [
       "<Figure size 432x288 with 1 Axes>"
      ]
     },
     "metadata": {
      "needs_background": "light"
     },
     "output_type": "display_data"
    }
   ],
   "source": [
    "def antonym_conjunction_distribution(df, outfile, source=None):\n",
    "    distribution_by_conjunction(df, get_antonyms_freqs, \"Antonymy\", outfile, source=source)\n",
    "\n",
    "chi2_by_conjunction(all_antonymy_df, get_antonyms_freqs)\n",
    "antonym_conjunction_distribution(all_antonymy_df, 'charts/antonymy_by_conjunction.pdf')\n",
    "# antonym_conjunction_distribution(gum_antonymy_df, 'charts/GUM_antonymy_by_conjunction.pdf', source='GUM')\n",
    "# antonym_conjunction_distribution(ewt_antonymy_df, 'charts/EWT_antonymy_by_conjunction.pdf', source='EWT')\n",
    "# antonym_conjunction_distribution(pud_antonymy_df, 'charts/PUD_antonymy_by_conjunction.pdf', source='PUD')"
   ]
  },
  {
   "cell_type": "markdown",
   "metadata": {},
   "source": [
    "### By Category"
   ]
  },
  {
   "cell_type": "code",
   "execution_count": 21,
   "metadata": {},
   "outputs": [
    {
     "name": "stdout",
     "output_type": "stream",
     "text": [
      "Chi-square Test of Association\n",
      "\n",
      "Observed: [[37, 15], [583, 88]]\n",
      "Expected: [[ 44.59197787   7.40802213]\n",
      " [575.40802213  95.59197787]]\n",
      "N=723\n",
      "Degrees of Freedom = 1\n",
      "probability=0.950, critical=3.841, stat=8.531\n",
      "Dependent (reject H0)\n",
      "significance=0.050, p=0.003\n",
      "Dependent (reject H0)\n",
      "\n"
     ]
    },
    {
     "data": {
      "image/png": "[encoded data removed]",
      "text/plain": [
       "<Figure size 432x288 with 1 Axes>"
      ]
     },
     "metadata": {
      "needs_background": "light"
     },
     "output_type": "display_data"
    }
   ],
   "source": [
    "def antonym_category_distribution(df, outfile, source=None):\n",
    "    distribution_by_category(df, get_antonyms_freqs, \"Antonymy\",\n",
    "        outfile, categories=[upos.ADJ, upos.ADV], source=source)\n",
    "\n",
    "chi2_by_category(all_antonymy_df, get_antonyms_freqs, categories=[upos.ADJ, upos.ADV])\n",
    "antonym_category_distribution(all_antonymy_df, 'charts/antonymy_by_category.pdf')\n",
    "# antonym_category_distribution(gum_antonymy_df, 'charts/GUM_antonymy_by_category.pdf', source='GUM')\n",
    "# antonym_category_distribution(ewt_antonymy_df, 'charts/EWT_antonymy_by_category.pdf', source='EWT')\n",
    "# antonym_category_distribution(pud_antonymy_df, 'charts/PUD_antonymy_by_category.pdf', source='PUD')"
   ]
  },
  {
   "cell_type": "markdown",
   "metadata": {},
   "source": [
    "# Hypernymy"
   ]
  },
  {
   "cell_type": "code",
   "execution_count": 22,
   "metadata": {},
   "outputs": [],
   "source": [
    "def get_hypernymy_freqs(df, raw=False):\n",
    "    tot = len(df.index)\n",
    "    df = df.loc[(df['1st Conjunct Hypernym?'] == True) | (df['2nd Conjunct Hypernym?'] == True)]\n",
    "    df = df.loc[(df['1st Conjunct Hypernym?']) != (df['2nd Conjunct Hypernym?'])]\n",
    "\n",
    "    # Get 1st conjunct hypernymy\n",
    "    hyps1 = df.loc[(df['1st Conjunct Hypernym?'] == True)]\n",
    "    hyps1.reset_index(drop=True, inplace=True)\n",
    "\n",
    "    # Get 2nd conjunct hypernymy\n",
    "    hyps2 = df.loc[(df['2nd Conjunct Hypernym?'] == True)]\n",
    "    hyps2.reset_index(drop=True, inplace=True)\n",
    "\n",
    "    # Get counts\n",
    "    count_hyps1 = len(hyps1.index)\n",
    "    count_hyps2 = len(hyps2.index)\n",
    "    \n",
    "    if raw:\n",
    "        return (count_hyps1, count_hyps2)\n",
    "\n",
    "    return (count_hyps1 / tot, count_hyps2 / tot) if tot != 0 else (0,0)"
   ]
  },
  {
   "cell_type": "code",
   "execution_count": 23,
   "metadata": {},
   "outputs": [
    {
     "name": "stdout",
     "output_type": "stream",
     "text": [
      "Chi-square Test for Goodness of Fit\n",
      "\n",
      "Observed: [323, 357]\n",
      "Expected: [340.0, 340.0]\n",
      "N=680\n",
      "Degrees of Freedom = 1\n",
      "stat=1.700, p=0.192\n",
      "Independent (fail to reject H0)\n",
      "\n"
     ]
    }
   ],
   "source": [
    "hypernymy_freqs = list(get_hypernymy_freqs(all_hypernymy_df, raw=True))\n",
    "chi2_goodness_of_fit(hypernymy_freqs)"
   ]
  },
  {
   "cell_type": "markdown",
   "metadata": {},
   "source": [
    "### By Conjunction"
   ]
  },
  {
   "cell_type": "code",
   "execution_count": 24,
   "metadata": {},
   "outputs": [
    {
     "name": "stdout",
     "output_type": "stream",
     "text": [
      "'and'\n",
      "Chi-square Test for Goodness of Fit\n",
      "\n",
      "Observed: [254, 281]\n",
      "Expected: [267.5, 267.5]\n",
      "N=535\n",
      "Degrees of Freedom = 1\n",
      "stat=1.363, p=0.243\n",
      "Independent (fail to reject H0)\n",
      "\n",
      "\n",
      "'or'\n",
      "Chi-square Test for Goodness of Fit\n",
      "\n",
      "Observed: [34, 48]\n",
      "Expected: [41.0, 41.0]\n",
      "N=82\n",
      "Degrees of Freedom = 1\n",
      "stat=2.390, p=0.122\n",
      "Independent (fail to reject H0)\n",
      "\n",
      "\n",
      "'but'\n",
      "Chi-square Test for Goodness of Fit\n",
      "\n",
      "Observed: [35, 27]\n",
      "Expected: [31.0, 31.0]\n",
      "N=62\n",
      "Degrees of Freedom = 1\n",
      "stat=1.032, p=0.310\n",
      "Independent (fail to reject H0)\n",
      "\n",
      "\n",
      "Chi-square Test of Association\n",
      "\n",
      "Observed: [[254, 34, 35], [281, 48, 27]]\n",
      "Expected: [[254.49926362  39.00736377  29.49337261]\n",
      " [280.50073638  42.99263623  32.50662739]]\n",
      "N=679\n",
      "Degrees of Freedom = 2\n",
      "probability=0.950, critical=5.991, stat=3.189\n",
      "Independent (fail to reject H0)\n",
      "significance=0.050, p=0.203\n",
      "Independent (fail to reject H0)\n",
      "\n"
     ]
    },
    {
     "data": {
      "image/png": "[encoded data removed]",
      "text/plain": [
       "<Figure size 432x288 with 1 Axes>"
      ]
     },
     "metadata": {
      "needs_background": "light"
     },
     "output_type": "display_data"
    }
   ],
   "source": [
    "def hypernymy_conjunction_distribution(df, outfile, source=None):\n",
    "    double_distribution_by_conjunction(df, get_hypernymy_freqs, \"Hypernymy\",\n",
    "    ('First Conjunct Hypernym', 'Second Conjunct Hypernym'), outfile, source=source)\n",
    "\n",
    "print(\"'and'\")\n",
    "hypernymy_freqs = list(get_hypernymy_freqs(all_hypernymy_df[all_hypernymy_df['Conjunction'] == 'and'], raw=True))\n",
    "chi2_goodness_of_fit(hypernymy_freqs)\n",
    "print()\n",
    "\n",
    "print(\"'or'\")\n",
    "hypernymy_freqs = list(get_hypernymy_freqs(all_hypernymy_df[all_hypernymy_df['Conjunction'] == 'or'], raw=True))\n",
    "chi2_goodness_of_fit(hypernymy_freqs)\n",
    "print()\n",
    "\n",
    "print(\"'but'\")\n",
    "hypernymy_freqs = list(get_hypernymy_freqs(all_hypernymy_df[all_hypernymy_df['Conjunction'] == 'but'], raw=True))\n",
    "chi2_goodness_of_fit(hypernymy_freqs)\n",
    "print()\n",
    "\n",
    "chi2_by_conjunction(all_hypernymy_df, get_hypernymy_freqs)\n",
    "hypernymy_conjunction_distribution(all_hypernymy_df, 'charts/hypernymy_by_conjunction.pdf')\n",
    "# hypernymy_conjunction_distribution(gum_hypernymy_df, 'charts/GUM_hypernymy_by_conjunction.pdf', source='GUM')\n",
    "# hypernymy_conjunction_distribution(ewt_hypernymy_df, 'charts/EWT_hypernymy_by_conjunction.pdf', source='EWT')\n",
    "# hypernymy_conjunction_distribution(pud_hypernymy_df, 'charts/PUD_hypernymy_by_conjunction.pdf', source='PUD')"
   ]
  },
  {
   "cell_type": "markdown",
   "metadata": {},
   "source": [
    "### By Category"
   ]
  },
  {
   "cell_type": "code",
   "execution_count": 25,
   "metadata": {},
   "outputs": [
    {
     "name": "stdout",
     "output_type": "stream",
     "text": [
      "Nouns\n",
      "Chi-square Test for Goodness of Fit\n",
      "\n",
      "Observed: [112, 117]\n",
      "Expected: [114.5, 114.5]\n",
      "N=229\n",
      "Degrees of Freedom = 1\n",
      "stat=0.109, p=0.741\n",
      "Independent (fail to reject H0)\n",
      "\n",
      "\n",
      "Verbs\n",
      "Chi-square Test for Goodness of Fit\n",
      "\n",
      "Observed: [211, 240]\n",
      "Expected: [225.5, 225.5]\n",
      "N=451\n",
      "Degrees of Freedom = 1\n",
      "stat=1.865, p=0.172\n",
      "Independent (fail to reject H0)\n",
      "\n",
      "\n",
      "Chi-square Test of Association\n",
      "\n",
      "Observed: [[112, 211], [117, 240]]\n",
      "Expected: [[108.775 214.225]\n",
      " [120.225 236.775]]\n",
      "N=680\n",
      "Degrees of Freedom = 1\n",
      "probability=0.950, critical=3.841, stat=0.196\n",
      "Independent (fail to reject H0)\n",
      "significance=0.050, p=0.658\n",
      "Independent (fail to reject H0)\n",
      "\n"
     ]
    },
    {
     "data": {
      "image/png": "[encoded data removed]",
      "text/plain": [
       "<Figure size 432x288 with 1 Axes>"
      ]
     },
     "metadata": {
      "needs_background": "light"
     },
     "output_type": "display_data"
    }
   ],
   "source": [
    "def hypernymy_category_distribution(df, outfile, source=None):\n",
    "    double_distribution_by_category(df, get_hypernymy_freqs, \"Hypernymy\",\n",
    "        ('First Conjunct Hypernym', 'Second Conjunct Hypernym'), outfile,\n",
    "        categories=[upos.NOUN, upos.VERB], source=source)\n",
    "\n",
    "nouns, verbs, _, _ = utils.likes_by_category(all_hypernymy_df)\n",
    "\n",
    "print(\"Nouns\")\n",
    "hypernymy_freqs = list(get_hypernymy_freqs(nouns, raw=True))\n",
    "chi2_goodness_of_fit(hypernymy_freqs)\n",
    "print()\n",
    "\n",
    "print(\"Verbs\")\n",
    "hypernymy_freqs = list(get_hypernymy_freqs(verbs, raw=True))\n",
    "chi2_goodness_of_fit(hypernymy_freqs)\n",
    "print()\n",
    "\n",
    "chi2_by_category(all_hypernymy_df, get_hypernymy_freqs, categories=[upos.NOUN, upos.VERB])\n",
    "hypernymy_category_distribution(all_hypernymy_df, 'charts/hypernymy_by_category.pdf')\n",
    "# hypernymy_category_distribution(gum_hypernymy_df, 'charts/GUM_hypernymy_by_category.pdf', source='GUM')\n",
    "# hypernymy_category_distribution(ewt_hypernymy_df, 'charts/EWT_hypernymy_by_category.pdf', source='EWT')\n",
    "# hypernymy_category_distribution(pud_hypernymy_df, 'charts/PUD_hypernymy_by_category.pdf', source='PUD')"
   ]
  },
  {
   "cell_type": "markdown",
   "metadata": {},
   "source": [
    "# Co-Hyponymy"
   ]
  },
  {
   "cell_type": "code",
   "execution_count": 26,
   "metadata": {},
   "outputs": [],
   "source": [
    "def get_cohyponyms_freqs(df, raw=False):\n",
    "    # Get co-hyponymy\n",
    "    hyps = df.loc[(df['Co-hyponyms?'] == True)]\n",
    "    hyps.reset_index(drop=True, inplace=True)\n",
    "\n",
    "    # Get counts\n",
    "    count_hyps = len(hyps.index)\n",
    "    tot = len(df.index)\n",
    "\n",
    "    if raw:\n",
    "        return (count_hyps, tot - count_hyps)\n",
    "        \n",
    "    return count_hyps / tot if tot != 0 else 0"
   ]
  },
  {
   "cell_type": "markdown",
   "metadata": {},
   "source": [
    "### By Conjunction"
   ]
  },
  {
   "cell_type": "code",
   "execution_count": 27,
   "metadata": {},
   "outputs": [
    {
     "name": "stdout",
     "output_type": "stream",
     "text": [
      "Chi-square Test of Association\n",
      "\n",
      "Observed: [[808, 100, 84], [4006, 521, 437]]\n",
      "Expected: [[ 801.79449295  103.43049026   86.77501679]\n",
      " [4012.20550705  517.56950974  434.22498321]]\n",
      "N=5956\n",
      "Degrees of Freedom = 2\n",
      "probability=0.950, critical=5.991, stat=0.301\n",
      "Independent (fail to reject H0)\n",
      "significance=0.050, p=0.860\n",
      "Independent (fail to reject H0)\n",
      "\n"
     ]
    },
    {
     "data": {
      "image/png": "[encoded data removed]",
      "text/plain": [
       "<Figure size 432x288 with 1 Axes>"
      ]
     },
     "metadata": {
      "needs_background": "light"
     },
     "output_type": "display_data"
    }
   ],
   "source": [
    "def cohyponymy_conjunction_distribution(df, outfile, source=None):\n",
    "    distribution_by_conjunction(df, get_cohyponyms_freqs, \"Co-hyponymy\", outfile, source=source)\n",
    "\n",
    "chi2_by_conjunction(all_cohyponymy_df, get_cohyponyms_freqs)\n",
    "cohyponymy_conjunction_distribution(all_cohyponymy_df, 'charts/cohyponymy_by_conjunction.pdf')\n",
    "# cohyponymy_conjunction_distribution(gum_cohyponymy_df, 'charts/GUM_cohyponymy_by_conjunction.pdf', source='GUM')\n",
    "# cohyponymy_conjunction_distribution(ewt_cohyponymy_df, 'charts/EWT_cohyponymy_by_conjunction.pdf', source='EWT')\n",
    "# cohyponymy_conjunction_distribution(pud_cohyponymy_df, 'charts/PUD_cohyponymy_by_conjunction.pdf', source='PUD')"
   ]
  },
  {
   "cell_type": "markdown",
   "metadata": {},
   "source": [
    "### By Category"
   ]
  },
  {
   "cell_type": "code",
   "execution_count": 28,
   "metadata": {},
   "outputs": [
    {
     "name": "stdout",
     "output_type": "stream",
     "text": [
      "Chi-square Test of Association\n",
      "\n",
      "Observed: [[280, 713], [2197, 2782]]\n",
      "Expected: [[ 411.86553918  581.13446082]\n",
      " [2065.13446082 2913.86553918]]\n",
      "N=5972\n",
      "Degrees of Freedom = 1\n",
      "probability=0.950, critical=3.841, stat=85.873\n",
      "Dependent (reject H0)\n",
      "significance=0.050, p=0.000\n",
      "Dependent (reject H0)\n",
      "\n"
     ]
    },
    {
     "data": {
      "image/png": "[encoded data removed]",
      "text/plain": [
       "<Figure size 432x288 with 1 Axes>"
      ]
     },
     "metadata": {
      "needs_background": "light"
     },
     "output_type": "display_data"
    }
   ],
   "source": [
    "def cohyponymy_category_distribution(df, outfile, source=None):\n",
    "    distribution_by_category(df, get_cohyponyms_freqs, \"Co-hyponymy\", outfile,\n",
    "        categories=[upos.NOUN, upos.VERB], source=source)\n",
    "\n",
    "chi2_by_category(all_cohyponymy_df, get_cohyponyms_freqs, categories=[upos.NOUN, upos.VERB])\n",
    "cohyponymy_category_distribution(all_cohyponymy_df, 'charts/cohyponymy_by_category.pdf')\n",
    "# cohyponymy_category_distribution(gum_cohyponymy_df, 'charts/GUM_cohyponymy_by_category.pdf', source='GUM')\n",
    "# cohyponymy_category_distribution(ewt_cohyponymy_df, 'charts/EWT_cohyponymy_by_category.pdf', source='EWT')\n",
    "# cohyponymy_category_distribution(pud_cohyponymy_df, 'charts/PUD_cohyponymy_by_category.pdf', source='PUD')"
   ]
  },
  {
   "cell_type": "markdown",
   "metadata": {},
   "source": [
    "# Entailment"
   ]
  },
  {
   "cell_type": "code",
   "execution_count": 29,
   "metadata": {},
   "outputs": [],
   "source": [
    "def get_entailment_freqs(df, raw=False):\n",
    "    tot = len(df.index)\n",
    "    \n",
    "    df = df.loc[(df['1st Conjunct Entails 2nd?'] == True) | (df['2nd Conjunct Entails 1st?'] == True)]\n",
    "    df = df.loc[(df['1st Conjunct Entails 2nd?']) != (df['2nd Conjunct Entails 1st?'])]\n",
    "\n",
    "    # Get 1st conjunct entailment\n",
    "    entl1 = df.loc[(df['1st Conjunct Entails 2nd?'] == True)]\n",
    "    entl1.reset_index(drop=True, inplace=True)\n",
    "\n",
    "    # Get 2nd conjunct entailment\n",
    "    entl2 = df.loc[(df['2nd Conjunct Entails 1st?'] == True)]\n",
    "    entl2.reset_index(drop=True, inplace=True)\n",
    "\n",
    "    # Get counts\n",
    "    count_entl1 = len(entl1.index)\n",
    "    count_entl2 = len(entl2.index)\n",
    "    \n",
    "    if raw:\n",
    "        return (count_entl1, count_entl2)\n",
    "\n",
    "    return (count_entl1 / tot, count_entl2 / tot) if tot != 0 else (0,0)"
   ]
  },
  {
   "cell_type": "code",
   "execution_count": 30,
   "metadata": {},
   "outputs": [
    {
     "name": "stdout",
     "output_type": "stream",
     "text": [
      "Chi-square Test for Goodness of Fit\n",
      "\n",
      "Observed: [10, 16]\n",
      "Expected: [13.0, 13.0]\n",
      "N=26\n",
      "Degrees of Freedom = 1\n",
      "stat=1.385, p=0.239\n",
      "Independent (fail to reject H0)\n",
      "\n"
     ]
    }
   ],
   "source": [
    "entailment_freqs = list(get_entailment_freqs(all_entailment_df, raw=True))\n",
    "chi2_goodness_of_fit(entailment_freqs)"
   ]
  },
  {
   "cell_type": "markdown",
   "metadata": {},
   "source": [
    "# By Conjunction"
   ]
  },
  {
   "cell_type": "code",
   "execution_count": 31,
   "metadata": {},
   "outputs": [
    {
     "name": "stdout",
     "output_type": "stream",
     "text": [
      "'and'\n",
      "Chi-square Test for Goodness of Fit\n",
      "\n",
      "Observed: [7, 14]\n",
      "Expected: [10.5, 10.5]\n",
      "N=21\n",
      "Degrees of Freedom = 1\n",
      "stat=2.333, p=0.127\n",
      "Independent (fail to reject H0)\n",
      "\n",
      "\n",
      "'or'\n",
      "Chi-square Test for Goodness of Fit\n",
      "\n",
      "Observed: [0, 1]\n",
      "Expected: [0.5, 0.5]\n",
      "N=1\n",
      "Degrees of Freedom = 1\n",
      "stat=1.000, p=0.317\n",
      "Independent (fail to reject H0)\n",
      "\n",
      "\n",
      "'but'\n",
      "Chi-square Test for Goodness of Fit\n",
      "\n",
      "Observed: [3, 1]\n",
      "Expected: [2.0, 2.0]\n",
      "N=4\n",
      "Degrees of Freedom = 1\n",
      "stat=1.000, p=0.317\n",
      "Independent (fail to reject H0)\n",
      "\n",
      "\n",
      "Chi-square Test of Association\n",
      "\n",
      "Observed: [[7, 0, 3], [14, 1, 1]]\n",
      "Expected: [[ 8.07692308  0.38461538  1.53846154]\n",
      " [12.92307692  0.61538462  2.46153846]]\n",
      "N=26\n",
      "Degrees of Freedom = 2\n",
      "probability=0.950, critical=5.991, stat=3.115\n",
      "Independent (fail to reject H0)\n",
      "significance=0.050, p=0.211\n",
      "Independent (fail to reject H0)\n",
      "\n"
     ]
    },
    {
     "data": {
      "image/png": "[encoded data removed]",
      "text/plain": [
       "<Figure size 432x288 with 1 Axes>"
      ]
     },
     "metadata": {
      "needs_background": "light"
     },
     "output_type": "display_data"
    }
   ],
   "source": [
    "def entailment_conjunction_distribution(df, outfile, source=None):\n",
    "    double_distribution_by_conjunction(df, get_entailment_freqs, \"Entailment\",\n",
    "        ('First Conjunct Entails Second', 'Second Conjunct Entails First'), outfile,\n",
    "        source=source)\n",
    "\n",
    "print(\"'and'\")\n",
    "entailment_freqs = list(get_entailment_freqs(all_entailment_df[all_entailment_df['Conjunction'] == 'and'], raw=True))\n",
    "chi2_goodness_of_fit(entailment_freqs)\n",
    "print()\n",
    "\n",
    "print(\"'or'\")\n",
    "entailment_freqs = list(get_entailment_freqs(all_entailment_df[all_entailment_df['Conjunction'] == 'or'], raw=True))\n",
    "chi2_goodness_of_fit(entailment_freqs)\n",
    "print()\n",
    "\n",
    "print(\"'but'\")\n",
    "entailment_freqs = list(get_entailment_freqs(all_entailment_df[all_entailment_df['Conjunction'] == 'but'], raw=True))\n",
    "chi2_goodness_of_fit(entailment_freqs)\n",
    "print()\n",
    "\n",
    "chi2_by_conjunction(all_entailment_df, get_entailment_freqs)\n",
    "entailment_conjunction_distribution(all_entailment_df, 'charts/entailment_by_conjunction.pdf')\n",
    "# entailment_conjunction_distribution(gum_entailment_df, 'charts/GUM_entailment_by_conjunction.pdf', source='GUM')\n",
    "# entailment_conjunction_distribution(ewt_entailment_df, 'charts/EWT_entailment_by_conjunction.pdf', source='EWT')\n",
    "# entailment_conjunction_distribution(pud_entailment_df, 'charts/PUD_entailment_by_conjunction.pdf', source='PUD')"
   ]
  }
 ],
 "metadata": {
  "interpreter": {
   "hash": "90d1250365b552bac7bd3e3505e64c228a1a6f7c9121581557d7a3f6f706e389"
  },
  "kernelspec": {
   "display_name": "Python 3.8.8 64-bit ('env': venv)",
   "name": "python3"
  },
  "language_info": {
   "codemirror_mode": {
    "name": "ipython",
    "version": 3
   },
   "file_extension": ".py",
   "mimetype": "text/x-python",
   "name": "python",
   "nbconvert_exporter": "python",
   "pygments_lexer": "ipython3",
   "version": "3.7.4"
  },
  "orig_nbformat": 4
 },
 "nbformat": 4,
 "nbformat_minor": 2
}
