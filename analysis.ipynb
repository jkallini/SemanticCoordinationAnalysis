{
 "cells": [
  {
   "cell_type": "markdown",
   "metadata": {},
   "source": [
    "# Imports"
   ]
  },
  {
   "cell_type": "code",
   "execution_count": 1,
   "metadata": {},
   "outputs": [],
   "source": [
    "import pandas as pd\n",
    "import utils\n",
    "import warnings\n",
    "import numpy as np\n",
    "import pandas as pd\n",
    "import matplotlib.pyplot as plt"
   ]
  },
  {
   "cell_type": "markdown",
   "metadata": {},
   "source": [
    "# Color Codes"
   ]
  },
  {
   "cell_type": "code",
   "execution_count": 2,
   "metadata": {},
   "outputs": [],
   "source": [
    "conjunction_colors = {\n",
    "    \"and\": \"#be0aff\",\n",
    "    \"or\": \"#580aff\",\n",
    "    \"but\": \"#0043ce\",\n",
    "    \"nor\": \"#d12c19\"\n",
    "}\n",
    "\n",
    "like_unlike_colors = {\n",
    "    \"likes\": \"#008bf8\",\n",
    "    \"unlikes\": \"#dc0073\"\n",
    "}\n",
    "\n",
    "category_colors = {\n",
    "    \"NP\": \"#ee1266\",\n",
    "    \"VP\": \"#6a4c93\",\n",
    "    \"ADJP\": \"#1982c4\",\n",
    "    \"ADVP\": \"#0ead69\",\n",
    "    \"PP\": \"#ff4b35\",\n",
    "    \"SBAR\": \"#00cecb\"\n",
    "}"
   ]
  },
  {
   "cell_type": "markdown",
   "metadata": {},
   "source": [
    "# COCA Analysis\n",
    "(We might skip this for now)"
   ]
  },
  {
   "cell_type": "code",
   "execution_count": 3,
   "metadata": {},
   "outputs": [],
   "source": [
    "# Conjunctions under analysis\n",
    "CONJUNCTIONS = ['and', 'or', 'but', 'nor']\n",
    "\n",
    "# Categories under analysis\n",
    "NOUN_CATEGORIES = ['NN', 'NNS', 'NNP', 'NNPS', 'NP', 'NX']\n",
    "VERB_CATEGORIES = ['VB', 'VBD', 'VBG', 'VBN', 'VBP', 'VBZ', 'VP']\n",
    "ADJ_CATEGORIES = ['JJ', 'JJR', 'JJS', 'ADJP']\n",
    "ADV_CATEGORIES = ['RB', 'RBR', 'RBS', 'ADVP']\n",
    "\n",
    "PHRASAL_CATEGORIES = ['NP', 'VP', 'ADJP', 'ADVP']"
   ]
  },
  {
   "cell_type": "code",
   "execution_count": 4,
   "metadata": {},
   "outputs": [],
   "source": [
    "# Load CSV file with coordination samples\n",
    "samples = pd.read_csv(\"csv/COCA/samples.csv\", index_col=None, header=0)\n",
    "\n",
    "# Load CSV files with raters' judgments\n",
    "rater1 = pd.read_csv(\"csv/COCA/raters/rater1.csv\", index_col=None, header=0)\n",
    "rater2 = pd.read_csv(\"csv/COCA/raters/rater2.csv\", index_col=None, header=0)\n",
    "rater3 = pd.read_csv(\"csv/COCA/raters/rater3.csv\", index_col=None, header=0)\n",
    "\n",
    "# Take majority of three raters' judgments\n",
    "r1 = rater1['Correct?']\n",
    "r2 = rater2['Correct?']\n",
    "r3 = rater3['Correct?']\n",
    "samples['Correct? (Majority)'] = r1 & r2 & r3\n",
    "correct = samples[samples['Correct? (Majority)']]\n",
    "correct.to_csv('csv/COCA/correct_samples.csv')"
   ]
  },
  {
   "cell_type": "code",
   "execution_count": 5,
   "metadata": {},
   "outputs": [],
   "source": [
    "# likes = utils.likes_df(correct)\n",
    "# unlikes = utils.unlikes_df(correct)\n",
    "\n",
    "# likes = utils.filter_conj_length(likes, 5)\n",
    "# unlikes = utils.filter_conj_length(unlikes, 5)"
   ]
  },
  {
   "cell_type": "code",
   "execution_count": 6,
   "metadata": {},
   "outputs": [],
   "source": [
    "# utils.add_conj_heads(likes)\n",
    "# utils.add_conj_heads(unlikes)"
   ]
  },
  {
   "cell_type": "code",
   "execution_count": 7,
   "metadata": {},
   "outputs": [],
   "source": [
    "# likes"
   ]
  },
  {
   "cell_type": "markdown",
   "metadata": {},
   "source": [
    "# PTB"
   ]
  },
  {
   "cell_type": "code",
   "execution_count": 8,
   "metadata": {},
   "outputs": [],
   "source": [
    "# Load samples from PTB\n",
    "ptb_samples = pd.read_csv(\"csv/PTB/PTB.csv\", index_col=None, header=0)\n",
    "\n",
    "# Get like coordinations\n",
    "ptb_likes = utils.likes_df(ptb_samples)\n",
    "\n",
    "# Filter coordinations so that each conjunct is only one word\n",
    "ptb_likes = utils.filter_conj_length(ptb_likes, 1)\n",
    "\n",
    "# Add conjunct heads\n",
    "# ptb_likes = utils.add_conj_heads(ptb_likes)"
   ]
  },
  {
   "cell_type": "code",
   "execution_count": 9,
   "metadata": {},
   "outputs": [],
   "source": [
    "# Add conjunct head columns for wordnet analysis\n",
    "# We can do this since each conjunct is only one word long\n",
    "ptb_likes['1st Conjunct Head'] = ptb_likes['1st Conjunct Text']\n",
    "ptb_likes['2nd Conjunct Head'] = ptb_likes['2nd Conjunct Text']\n",
    "\n",
    "# Finding closures over wordnet relations produces redundant search warnings\n",
    "# We'll just filter these warnings\n",
    "with warnings.catch_warnings():\n",
    "    warnings.simplefilter(\"ignore\")\n",
    "\n",
    "    # Get wordnet relations for like coordinations from PTB\n",
    "    ptb_synonymy_df = utils.analyze_synonymy(ptb_likes)\n",
    "    ptb_antonymy_df = utils.analyze_antonymy(ptb_likes)\n",
    "    ptb_hypernymy_df = utils.analyze_hypernymy(ptb_likes)\n",
    "    ptb_cohyponymy_df = utils.analyze_cohyponymy(ptb_likes)\n",
    "    ptb_entailment_df = utils.analyze_entailment(ptb_likes)\n",
    "\n",
    "ptb_synonyms = ptb_synonymy_df[ptb_synonymy_df['Synonyms?'] == True]\n",
    "utils.pretty_print(ptb_synonyms, 'rtf/ptb_synonyms.rtf')"
   ]
  },
  {
   "cell_type": "markdown",
   "metadata": {},
   "source": [
    "# GUM"
   ]
  },
  {
   "cell_type": "code",
   "execution_count": 10,
   "metadata": {},
   "outputs": [],
   "source": [
    "# Load samples from GUM\n",
    "gum_samples = pd.read_csv(\"csv/GUM/GUM.csv\", index_col=None, header=0)\n",
    "\n",
    "# Get like coordinations\n",
    "gum_likes = utils.likes_df(gum_samples)\n",
    "\n",
    "# Filter coordinations so that each conjunct is only one word\n",
    "gum_likes = utils.filter_conj_length(gum_likes, 1)\n",
    "\n",
    "# Add conjunct heads\n",
    "# gum_likes = utils.add_conj_heads(gum_likes)"
   ]
  },
  {
   "cell_type": "code",
   "execution_count": 11,
   "metadata": {},
   "outputs": [],
   "source": [
    "# Add conjunct head columns for wordnet analysis\n",
    "# We can do this since each conjunct is only one word long\n",
    "gum_likes['1st Conjunct Head'] = gum_likes['1st Conjunct Text']\n",
    "gum_likes['2nd Conjunct Head'] = gum_likes['2nd Conjunct Text']\n",
    "\n",
    "# Finding closures over wordnet relations produces redundant search warnings\n",
    "# We'll just filter these warnings\n",
    "with warnings.catch_warnings():\n",
    "    warnings.simplefilter(\"ignore\")\n",
    "\n",
    "    # Get wordnet relations for like coordinations from GUM\n",
    "    gum_synonymy_df = utils.analyze_synonymy(gum_likes)\n",
    "    gum_antonymy_df = utils.analyze_antonymy(gum_likes)\n",
    "    gum_hypernymy_df = utils.analyze_hypernymy(gum_likes)\n",
    "    gum_cohyponymy_df = utils.analyze_cohyponymy(gum_likes)\n",
    "    gum_entailment_df = utils.analyze_entailment(gum_likes)\n",
    "\n",
    "gum_synonyms = gum_synonymy_df[gum_synonymy_df['Synonyms?'] == True]\n",
    "utils.pretty_print(gum_synonyms, 'rtf/gum_synonyms.rtf')"
   ]
  },
  {
   "cell_type": "markdown",
   "metadata": {},
   "source": [
    "# Synonyms"
   ]
  },
  {
   "cell_type": "code",
   "execution_count": 12,
   "metadata": {},
   "outputs": [],
   "source": [
    "def get_synonyms_freqs(df):\n",
    "    # Get synonyms\n",
    "    syns = df.loc[(df['Synonyms?'] == True)]\n",
    "\n",
    "    # Get counts\n",
    "    syns_count = len(syns)\n",
    "    tot = len(df)\n",
    "\n",
    "    print('syns:', syns_count)\n",
    "    print('not syns:', tot - syns_count)\n",
    "\n",
    "    return syns_count / tot"
   ]
  },
  {
   "cell_type": "markdown",
   "metadata": {},
   "source": [
    "### By conjunction"
   ]
  },
  {
   "cell_type": "code",
   "execution_count": 13,
   "metadata": {},
   "outputs": [],
   "source": [
    "def synonym_conjunction_distribution(synonyms_df, source, outfile):\n",
    "\n",
    "    labels = []\n",
    "    syns_freqs = []\n",
    "\n",
    "    for conjunction in CONJUNCTIONS:\n",
    "        print(conjunction)\n",
    "\n",
    "        labels.append(conjunction)\n",
    "\n",
    "        df = synonyms_df.copy()\n",
    "        df = df.loc[df['Conjunction'] == conjunction]\n",
    "\n",
    "        if df is None:\n",
    "            continue\n",
    "\n",
    "        syns_freqs.append(get_synonyms_freqs(df))\n",
    "\n",
    "    x = np.arange(len(labels))  # the label locations\n",
    "    width = 0.6  # the width of the bars\n",
    "\n",
    "    fig, ax = plt.subplots()\n",
    "    rects1 = ax.bar(x, syns_freqs, width, color=conjunction_colors.values())\n",
    "\n",
    "    # Add some text for labels, title and custom x-axis tick labels, etc.\n",
    "    ax.set_ylabel('Percentage')\n",
    "    ax.set_title(\n",
    "        'Percentages of Coordinations with Synonymy\\nby Conjunction (' + source + ')')\n",
    "    ax.set_xticks(x)\n",
    "    ax.set_xticklabels(labels)\n",
    "\n",
    "    for rect in rects1:\n",
    "        height = rect.get_height()\n",
    "        ax.annotate('{:.3f}'.format(height),\n",
    "                    xy=(rect.get_x() + rect.get_width() / 2, height),\n",
    "                    xytext=(0, -12),\n",
    "                    textcoords=\"offset points\",\n",
    "                    ha='center', va='bottom', color='white')\n",
    "\n",
    "    plt.savefig(outfile, bbox_inches='tight')\n"
   ]
  },
  {
   "cell_type": "code",
   "execution_count": 14,
   "metadata": {},
   "outputs": [
    {
     "name": "stdout",
     "output_type": "stream",
     "text": [
      "and\n",
      "syns: 54\n",
      "not syns: 3485\n",
      "or\n",
      "syns: 7\n",
      "not syns: 455\n",
      "but\n",
      "syns: 0\n",
      "not syns: 35\n",
      "nor\n",
      "syns: 0\n",
      "not syns: 12\n",
      "and\n",
      "syns: 4\n",
      "not syns: 331\n",
      "or\n",
      "syns: 2\n",
      "not syns: 53\n",
      "but\n",
      "syns: 0\n",
      "not syns: 3\n",
      "nor\n",
      "syns: 0\n",
      "not syns: 4\n"
     ]
    },
    {
     "data": {
      "image/png": "[encoded data removed]",
      "text/plain": [
       "<Figure size 432x288 with 1 Axes>"
      ]
     },
     "metadata": {
      "needs_background": "light"
     },
     "output_type": "display_data"
    },
    {
     "data": {
      "image/png": "[encoded data removed]",
      "text/plain": [
       "<Figure size 432x288 with 1 Axes>"
      ]
     },
     "metadata": {
      "needs_background": "light"
     },
     "output_type": "display_data"
    }
   ],
   "source": [
    "synonym_conjunction_distribution(ptb_synonymy_df, 'PTB', 'charts/PTB_synonymy_by_conjunction.pdf')\n",
    "synonym_conjunction_distribution(gum_synonymy_df, 'GUM', 'charts/GUM_synonymy_by_conjunction.pdf')"
   ]
  },
  {
   "cell_type": "markdown",
   "metadata": {},
   "source": [
    "### By category"
   ]
  },
  {
   "cell_type": "code",
   "execution_count": 15,
   "metadata": {},
   "outputs": [],
   "source": [
    "def synonym_category_distribution(synonyms_df, source, outfile):\n",
    "    labels = []\n",
    "    syns_freqs = []\n",
    "\n",
    "\n",
    "    print('Nominal')\n",
    "    labels.append('Nominal')\n",
    "\n",
    "    # Concatenate all CSVs for the specified genre into one dataframe\n",
    "    df = synonyms_df.copy()\n",
    "    df = df.loc[df['1st Conjunct Category'].isin(NOUN_CATEGORIES)]\n",
    "    df = df.loc[df['2nd Conjunct Category'].isin(NOUN_CATEGORIES)]\n",
    "    syns_freqs.append(get_synonyms_freqs(df))\n",
    "\n",
    "\n",
    "    print('Verbal')\n",
    "    labels.append('Verbal')\n",
    "\n",
    "    df = synonyms_df.copy()\n",
    "    df = df.loc[df['1st Conjunct Category'].isin(VERB_CATEGORIES)]\n",
    "    df = df.loc[df['2nd Conjunct Category'].isin(VERB_CATEGORIES)]\n",
    "    syns_freqs.append(get_synonyms_freqs(df))\n",
    "\n",
    "    print('Adjectival')\n",
    "    labels.append('Adjectival')\n",
    "\n",
    "    df = synonyms_df.copy()\n",
    "    df = df.loc[df['1st Conjunct Category'].isin(ADJ_CATEGORIES)]\n",
    "    df = df.loc[df['2nd Conjunct Category'].isin(ADJ_CATEGORIES)]\n",
    "    syns_freqs.append(get_synonyms_freqs(df))\n",
    "\n",
    "    print('Adverbial')\n",
    "    labels.append('Adverbial')\n",
    "\n",
    "    df = synonyms_df.copy()\n",
    "    df = df.loc[df['1st Conjunct Category'].isin(ADV_CATEGORIES)]\n",
    "    df = df.loc[df['2nd Conjunct Category'].isin(ADV_CATEGORIES)]\n",
    "    syns_freqs.append(get_synonyms_freqs(df))\n",
    "\n",
    "    x = np.arange(len(labels))  # the label locations\n",
    "    width = 0.6  # the width of the bars\n",
    "\n",
    "    fig, ax = plt.subplots()\n",
    "    rects1 = ax.bar(x, syns_freqs, width, color=category_colors.values())\n",
    "\n",
    "    # Add some text for labels, title and custom x-axis tick labels, etc.\n",
    "    ax.set_ylabel('Percentage')\n",
    "    ax.set_title('Percentages of Coordinations with Synonymy\\nby Syntactic Category (' + source + ')')\n",
    "    ax.set_xticks(x)\n",
    "    ax.set_xticklabels(labels)\n",
    "\n",
    "    for rect in rects1:\n",
    "        height = rect.get_height()\n",
    "        ax.annotate('{:.3f}'.format(height),\n",
    "                    xy=(rect.get_x() + rect.get_width() / 2, height),\n",
    "                    xytext=(0, -12),\n",
    "                    textcoords=\"offset points\",\n",
    "                    ha='center', va='bottom', color='white')\n",
    "\n",
    "    plt.savefig(outfile, bbox_inches='tight')"
   ]
  },
  {
   "cell_type": "code",
   "execution_count": 16,
   "metadata": {},
   "outputs": [
    {
     "name": "stdout",
     "output_type": "stream",
     "text": [
      "Nominal\n",
      "syns: 47\n",
      "not syns: 2858\n",
      "Verbal\n",
      "syns: 11\n",
      "not syns: 446\n",
      "Adjectival\n",
      "syns: 1\n",
      "not syns: 598\n",
      "Adverbial\n",
      "syns: 2\n",
      "not syns: 98\n",
      "Nominal\n",
      "syns: 2\n",
      "not syns: 213\n",
      "Verbal\n",
      "syns: 0\n",
      "not syns: 29\n",
      "Adjectival\n",
      "syns: 3\n",
      "not syns: 122\n",
      "Adverbial\n",
      "syns: 1\n",
      "not syns: 31\n"
     ]
    },
    {
     "data": {
      "image/png": "[encoded data removed]",
      "text/plain": [
       "<Figure size 432x288 with 1 Axes>"
      ]
     },
     "metadata": {
      "needs_background": "light"
     },
     "output_type": "display_data"
    },
    {
     "data": {
      "image/png": "[encoded data removed]",
      "text/plain": [
       "<Figure size 432x288 with 1 Axes>"
      ]
     },
     "metadata": {
      "needs_background": "light"
     },
     "output_type": "display_data"
    }
   ],
   "source": [
    "synonym_category_distribution(ptb_synonymy_df, 'PTB', 'charts/PTB_synonymy_by_category.pdf')\n",
    "synonym_category_distribution(gum_synonymy_df, 'GUM', 'charts/GUM_synonymy_by_category.pdf')"
   ]
  }
 ],
 "metadata": {
  "interpreter": {
   "hash": "90d1250365b552bac7bd3e3505e64c228a1a6f7c9121581557d7a3f6f706e389"
  },
  "kernelspec": {
   "display_name": "Python 3.8.8 64-bit ('env': venv)",
   "name": "python3"
  },
  "language_info": {
   "codemirror_mode": {
    "name": "ipython",
    "version": 3
   },
   "file_extension": ".py",
   "mimetype": "text/x-python",
   "name": "python",
   "nbconvert_exporter": "python",
   "pygments_lexer": "ipython3",
   "version": "3.7.4"
  },
  "orig_nbformat": 4
 },
 "nbformat": 4,
 "nbformat_minor": 2
}
