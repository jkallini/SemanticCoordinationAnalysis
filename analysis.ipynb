{
 "cells": [
  {
   "cell_type": "markdown",
   "metadata": {},
   "source": [
    "# Imports"
   ]
  },
  {
   "cell_type": "code",
   "execution_count": 787,
   "metadata": {},
   "outputs": [],
   "source": [
    "import pandas as pd\n",
    "import utils\n",
    "import warnings\n",
    "import numpy as np\n",
    "import pandas as pd\n",
    "import matplotlib.pyplot as plt\n",
    "import glob\n",
    "from upos import upos\n",
    "from scipy.stats import chi2_contingency, chi2"
   ]
  },
  {
   "cell_type": "markdown",
   "metadata": {},
   "source": [
    "# Constants + Helper Functions"
   ]
  },
  {
   "cell_type": "code",
   "execution_count": 788,
   "metadata": {},
   "outputs": [],
   "source": [
    "CONJUNCTION_COLORS = {\n",
    "    \"and\": \"#be0aff\",\n",
    "    \"or\": \"#580aff\",\n",
    "    \"but\": \"#0043ce\",\n",
    "    \"nor\": \"#d12c19\"\n",
    "}\n",
    "\n",
    "CONJUNCTION_COLORS = {\n",
    "    \"and\": \"#9B5DE5\",\n",
    "    \"or\": \"#00BBF9\",\n",
    "    \"but\": \"#38b000\",\n",
    "    \"nor\": \"#d90429\",\n",
    "}\n",
    "\n",
    "LIKE_UNLIKE_COLORS = {\n",
    "    \"likes\": \"#008bf8\",\n",
    "    \"unlikes\": \"#dc0073\"\n",
    "}\n",
    "\n",
    "CATEGORY_COLORS = {\n",
    "    \"NP\": \"#ee1266\",\n",
    "    \"VP\": \"#6a4c93\",\n",
    "    \"ADJP\": \"#1982c4\",\n",
    "    \"ADVP\": \"#0ead69\",\n",
    "    \"PP\": \"#ff4b35\",\n",
    "    \"SBAR\": \"#00cecb\"\n",
    "}\n",
    "\n",
    "CONJUNCTIONS = ['and', 'or', 'but'] #, 'nor']\n",
    "\n",
    "CATEGORIES = [upos.NOUN, upos.VERB, upos.ADJ, upos.ADV]"
   ]
  },
  {
   "cell_type": "code",
   "execution_count": 789,
   "metadata": {},
   "outputs": [],
   "source": [
    "def get_df_from_path(path):\n",
    "    '''\n",
    "    Concatenate all CSV files in the specified path and return\n",
    "    the result as a DataFrame.\n",
    "\n",
    "    @param path (str): path to input CSV files\n",
    "    @return (DataFrame): DataFrame containing all data\n",
    "    '''\n",
    "  \n",
    "    all_files = glob.glob(path)\n",
    "\n",
    "    # Concatenate all CSVs in the specified path into one dataframe\n",
    "    li = []\n",
    "    for filename in all_files:\n",
    "        df = pd.read_csv(filename, index_col=None, header=0)\n",
    "        li.append(df)\n",
    "\n",
    "    if li == []:\n",
    "        return None\n",
    "\n",
    "    df = pd.concat(li, axis=0, ignore_index=True)\n",
    "    return df"
   ]
  },
  {
   "cell_type": "code",
   "execution_count": 790,
   "metadata": {},
   "outputs": [],
   "source": [
    "def get_wordnet_dfs(df):\n",
    "    '''\n",
    "    Get five DataFrames for each WordNet relation (synonymy, antonymy,\n",
    "    hypernymy, co-hyponymy, entailment) using examples from the given\n",
    "    input df.\n",
    "\n",
    "    @param df (DataFrame): input of raw coordination samples\n",
    "    @return (5-tuple of DataFrames): tuple containing a DataFrame for each\n",
    "        WordNet relation (synonymy_df, antonymy_df, hypernymy_df,\n",
    "        cohyponymy_df, entailment_df)\n",
    "    '''\n",
    "    \n",
    "    # Get like coordinations\n",
    "    likes = utils.likes_df(df)\n",
    "\n",
    "    # Finding closures over wordnet relations produces redundant search warnings\n",
    "    # We'll just filter these warnings\n",
    "    with warnings.catch_warnings():\n",
    "        warnings.simplefilter(\"ignore\")\n",
    "\n",
    "        # Get wordnet relations for like coordinations\n",
    "        synonymy_df = utils.analyze_synonymy(likes)\n",
    "        antonymy_df = utils.analyze_antonymy(likes)\n",
    "        hypernymy_df = utils.analyze_hypernymy(likes)\n",
    "        cohyponymy_df = utils.analyze_cohyponymy(likes)\n",
    "        entailment_df = utils.analyze_entailment(likes)\n",
    "\n",
    "    return (synonymy_df, antonymy_df, hypernymy_df, cohyponymy_df, entailment_df)"
   ]
  },
  {
   "cell_type": "code",
   "execution_count": 791,
   "metadata": {},
   "outputs": [],
   "source": [
    "def chi2_from_table(table):\n",
    "    N = sum([sum(l) for l in table])\n",
    "    print('N={}'.format(N))\n",
    "\n",
    "    print(table)\n",
    "    stat, p, dof, expected = chi2_contingency(table)\n",
    "    print('Degrees of Freedom = %d' % dof)\n",
    "    print(expected)\n",
    "\n",
    "    # interpret test-statistic\n",
    "    prob = 0.95\n",
    "    critical = chi2.ppf(prob, dof)\n",
    "    print('probability=%.3f, critical=%.3f, stat=%.3f' %\n",
    "          (prob, critical, stat))\n",
    "    if abs(stat) >= critical:\n",
    "        print('Dependent (reject H0)')\n",
    "    else:\n",
    "        print('Independent (fail to reject H0)')\n",
    "\n",
    "    # interpret p-value\n",
    "    alpha = 1.0 - prob\n",
    "    print('significance=%.3f, p=%.3f' % (alpha, p))\n",
    "    if p <= alpha:\n",
    "        print('Dependent (reject H0)')\n",
    "    else:\n",
    "        print('Independent (fail to reject H0)')\n",
    "\n",
    "\n",
    "def chi2_by_conjunction(relation_df, freq_func, conjunctions=CONJUNCTIONS):\n",
    "\n",
    "    group1_freqs = []\n",
    "    group2_freqs = []\n",
    "\n",
    "    for conjunction in conjunctions:\n",
    "\n",
    "        df = relation_df.copy()\n",
    "        df = df.loc[df['Conjunction'] == conjunction]\n",
    "\n",
    "        if df is None:\n",
    "            continue\n",
    "\n",
    "        group1_freq, group2_freq = freq_func(df, raw=True)\n",
    "        group1_freqs.append(group1_freq)\n",
    "        group2_freqs.append(group2_freq)\n",
    "\n",
    "    chi2_from_table([group1_freqs, group2_freqs])\n",
    "\n",
    "\n",
    "def chi2_by_category(relation_df, freq_func, categories=CATEGORIES):\n",
    "\n",
    "    group1_freqs = []\n",
    "    group2_freqs = []\n",
    "\n",
    "    for category in categories:\n",
    "\n",
    "        df = relation_df.copy()\n",
    "        df = df.loc[(df['1st Conjunct Category'] == category) &\n",
    "                    (df['2nd Conjunct Category'] == category)]\n",
    "\n",
    "        if df is None:\n",
    "            continue\n",
    "\n",
    "        group1_freq, group2_freq = freq_func(df, raw=True)\n",
    "        group1_freqs.append(group1_freq)\n",
    "        group2_freqs.append(group2_freq)\n",
    "\n",
    "    chi2_from_table([group1_freqs, group2_freqs])"
   ]
  },
  {
   "cell_type": "markdown",
   "metadata": {},
   "source": [
    "### Plotting Distributions on Single-Bar Charts"
   ]
  },
  {
   "cell_type": "code",
   "execution_count": 792,
   "metadata": {},
   "outputs": [],
   "source": [
    "def plot_single_bar(labels, freqs, title, outfile, colors):\n",
    "\n",
    "    x = np.arange(len(labels))  # the label locations\n",
    "    width = 0.6  # the width of the bars\n",
    "    freqs = [f * 100 for f in freqs]\n",
    "\n",
    "    _, ax = plt.subplots()\n",
    "    rects1 = ax.bar(x, freqs, width, color=colors)\n",
    "\n",
    "    # Add some text for labels, title and custom x-axis tick labels, etc.\n",
    "    ax.set_ylabel('Percentage (%)')\n",
    "    ax.set_title(title)\n",
    "    ax.set_xticks(x)\n",
    "    ax.set_xticklabels(labels)\n",
    "\n",
    "    for rect in rects1:\n",
    "        height = rect.get_height()\n",
    "        ax.annotate('{:.1f}'.format(height) + '%',\n",
    "                    xy=(rect.get_x() + rect.get_width() / 2, height),\n",
    "                    xytext=(0, -12),\n",
    "                    textcoords=\"offset points\",\n",
    "                    ha='center', va='bottom', color='white')\n",
    "\n",
    "    plt.savefig(outfile, bbox_inches='tight')"
   ]
  },
  {
   "cell_type": "code",
   "execution_count": 793,
   "metadata": {},
   "outputs": [],
   "source": [
    "def distribution_by_conjunction(relation_df, freq_func, relation_title, outfile,\n",
    "    conjunctions=CONJUNCTIONS, source=None):\n",
    "\n",
    "    labels = []\n",
    "    freqs = []\n",
    "\n",
    "    for conjunction in conjunctions:\n",
    "\n",
    "        labels.append(conjunction)\n",
    "\n",
    "        df = relation_df.copy()\n",
    "        df = df.loc[df['Conjunction'] == conjunction]\n",
    "\n",
    "        if df is None:\n",
    "            continue\n",
    "\n",
    "        freqs.append(freq_func(df))\n",
    "\n",
    "    title = 'Percentages of Coordinations with {}\\nby Conjunction'.format(\n",
    "        relation_title)\n",
    "    if source is not None:\n",
    "        title = title + ' ({})'.format(source)\n",
    "\n",
    "    plot_single_bar(labels, freqs, title, outfile, CONJUNCTION_COLORS.values())"
   ]
  },
  {
   "cell_type": "code",
   "execution_count": 794,
   "metadata": {},
   "outputs": [],
   "source": [
    "def distribution_by_category(relation_df, freq_func, relation_title, outfile,\n",
    "    categories=CATEGORIES, source=None):\n",
    "\n",
    "    labels = []\n",
    "    freqs = []\n",
    "\n",
    "    nouns, verbs, adjps, advps = utils.likes_by_category(relation_df)\n",
    "\n",
    "    if upos.NOUN in categories:\n",
    "        labels.append('Nominal')\n",
    "        freqs.append(freq_func(nouns))\n",
    "\n",
    "    if upos.VERB in categories:\n",
    "        labels.append('Verbal')\n",
    "        freqs.append(freq_func(verbs))\n",
    "\n",
    "    if upos.ADJ in categories:\n",
    "        labels.append('Adjectival')\n",
    "        freqs.append(freq_func(adjps))\n",
    "\n",
    "    if upos.ADV in categories:\n",
    "        labels.append('Adverbial')\n",
    "        freqs.append(freq_func(advps))\n",
    "\n",
    "    title = 'Percentages of Coordinations with {}\\nby Syntactic Category'.format(\n",
    "        relation_title)\n",
    "    if source is not None:\n",
    "        title = title + ' ({})'.format(source)\n",
    "\n",
    "    plot_single_bar(labels, freqs, title, outfile, CATEGORY_COLORS.values())"
   ]
  },
  {
   "cell_type": "markdown",
   "metadata": {},
   "source": [
    "### Plotting Distributions for Double-Bar Charts"
   ]
  },
  {
   "cell_type": "code",
   "execution_count": 795,
   "metadata": {},
   "outputs": [],
   "source": [
    "def plot_double_bar(labels, sublabels, freqs1, freqs2, title, outfile):\n",
    "\n",
    "    x = np.arange(len(labels))  # the label locations\n",
    "    width = 0.45  # the width of the bars\n",
    "    freqs1 = [f * 100 for f in freqs1]\n",
    "    freqs2 = [f * 100 for f in freqs2]\n",
    "\n",
    "    _, ax = plt.subplots()\n",
    "    rects1 = ax.bar(x - width/2, freqs1, width,\n",
    "                    label=sublabels[0])\n",
    "    rects2 = ax.bar(x + width/2, freqs2, width,\n",
    "                    label=sublabels[1])\n",
    "\n",
    "    # Add some text for labels, title and custom x-axis tick labels, etc.\n",
    "    ax.set_ylabel('Percentage (%)')\n",
    "    ax.set_title(title)\n",
    "    ax.set_xticks(x)\n",
    "    ax.set_xticklabels(labels)\n",
    "    ax.legend(loc='center left', bbox_to_anchor=(0, 0.1))\n",
    "\n",
    "    for rect in rects1:\n",
    "        height = rect.get_height()\n",
    "        ax.annotate('{:.1f}'.format(height) + '%',\n",
    "                    xy=(rect.get_x() + rect.get_width() / 2, height),\n",
    "                    xytext=(0, -12),\n",
    "                    textcoords=\"offset points\",\n",
    "                    ha='center', va='bottom', color='white')\n",
    "\n",
    "    for rect in rects2:\n",
    "        height = rect.get_height()\n",
    "        ax.annotate('{:.1f}'.format(height) + '%',\n",
    "                    xy=(rect.get_x() + rect.get_width() / 2, height),\n",
    "                    xytext=(0, -12),\n",
    "                    textcoords=\"offset points\",\n",
    "                    ha='center', va='bottom')\n",
    "\n",
    "    plt.savefig(outfile, bbox_inches='tight')"
   ]
  },
  {
   "cell_type": "code",
   "execution_count": 796,
   "metadata": {},
   "outputs": [],
   "source": [
    "def double_distribution_by_conjunction(relation_df, freq_func, relation_title,\n",
    "    sublabels, outfile, conjunctions=CONJUNCTIONS, source=None):\n",
    "\n",
    "    labels = []\n",
    "    freqs1 = []\n",
    "    freqs2 = []\n",
    "\n",
    "    print(source) if source is not None else print('All Data')\n",
    "    print()\n",
    "\n",
    "    for conjunction in conjunctions:\n",
    "        print(conjunction)\n",
    "\n",
    "        labels.append(conjunction)\n",
    "\n",
    "        df = relation_df.copy()\n",
    "        df = df.loc[df['Conjunction'] == conjunction]\n",
    "\n",
    "        if df is None:\n",
    "            continue\n",
    "\n",
    "        freq1, freq2 = freq_func(df)\n",
    "        freqs1.append(freq1)\n",
    "        freqs2.append(freq2)\n",
    "\n",
    "        print()\n",
    "\n",
    "    title = 'Percentages of Coordinations with {}\\nby Conjunction'.format(\n",
    "        relation_title)\n",
    "    if source is not None:\n",
    "        title = title + ' ({})'.format(source)\n",
    "\n",
    "    print()\n",
    "\n",
    "    plot_double_bar(labels, sublabels, freqs1, freqs2, title, outfile)"
   ]
  },
  {
   "cell_type": "code",
   "execution_count": 797,
   "metadata": {},
   "outputs": [],
   "source": [
    "def double_distribution_by_category(relation_df, freq_func, relation_title,\n",
    "    sublabels, outfile, categories=CATEGORIES, source=None):\n",
    "\n",
    "    labels = []\n",
    "    freqs1 = []\n",
    "    freqs2 = []\n",
    "\n",
    "    print(source) if source is not None else print('All Data')\n",
    "    print()\n",
    "\n",
    "    nouns, verbs, adjps, advps = utils.likes_by_category(relation_df)\n",
    "\n",
    "    if upos.NOUN in categories:\n",
    "        print('Nominal')\n",
    "        labels.append('Nominal')\n",
    "        freq1, freq2 = freq_func(nouns)\n",
    "        freqs1.append(freq1)\n",
    "        freqs2.append(freq2)\n",
    "\n",
    "    if upos.VERB in categories:\n",
    "        print('Verbal')\n",
    "        labels.append('Verbal')\n",
    "        freq1, freq2 = freq_func(verbs)\n",
    "        freqs1.append(freq1)\n",
    "        freqs2.append(freq2)\n",
    "\n",
    "    if upos.ADJ in categories:\n",
    "        print('Adjectival')\n",
    "        labels.append('Adjectival')\n",
    "        freq1, freq2 = freq_func(adjps)\n",
    "        freqs1.append(freq1)\n",
    "        freqs2.append(freq2)\n",
    "\n",
    "    if upos.ADV in categories:\n",
    "        print('Adverbial')\n",
    "        labels.append('Adverbial')\n",
    "        freq1, freq2 = freq_func(advps)\n",
    "        freqs1.append(freq1)\n",
    "        freqs2.append(freq2)\n",
    "\n",
    "    title = 'Percentages of Coordinations with {}\\nby Category'.format(\n",
    "        relation_title)\n",
    "    if source is not None:\n",
    "        title = title + ' ({})'.format(source)\n",
    "\n",
    "    print()\n",
    "\n",
    "    plot_double_bar(labels, sublabels, freqs1, freqs2, title, outfile)"
   ]
  },
  {
   "cell_type": "markdown",
   "metadata": {},
   "source": [
    "# Load Data and Get WordNet Relations"
   ]
  },
  {
   "cell_type": "code",
   "execution_count": 798,
   "metadata": {},
   "outputs": [],
   "source": [
    "# GUM\n",
    "gum_samples = get_df_from_path('csv/GUM/*.csv')\n",
    "gum_synonymy_df, gum_antonymy_df, gum_hypernymy_df, gum_cohyponymy_df, gum_entailment_df \\\n",
    "    = get_wordnet_dfs(gum_samples)\n",
    "\n",
    "# EWT\n",
    "ewt_samples = get_df_from_path('csv/EWT/*.csv')\n",
    "ewt_synonymy_df, ewt_antonymy_df, ewt_hypernymy_df, ewt_cohyponymy_df, ewt_entailment_df \\\n",
    "    = get_wordnet_dfs(ewt_samples)\n",
    "\n",
    "# PUD\n",
    "pud_samples = get_df_from_path('csv/PUD/*.csv')\n",
    "pud_synonymy_df, pud_antonymy_df, pud_hypernymy_df, pud_cohyponymy_df, pud_entailment_df \\\n",
    "    = get_wordnet_dfs(pud_samples)\n",
    "\n",
    "# All sources\n",
    "all_synonymy_df = pd.concat(\n",
    "    [gum_synonymy_df, ewt_synonymy_df, pud_synonymy_df], axis=0, ignore_index=True)\n",
    "all_antonymy_df = pd.concat(\n",
    "    [gum_antonymy_df, ewt_antonymy_df, pud_antonymy_df], axis=0, ignore_index=True)\n",
    "all_hypernymy_df = pd.concat(\n",
    "    [gum_hypernymy_df, ewt_hypernymy_df, pud_hypernymy_df], axis=0, ignore_index=True)\n",
    "all_cohyponymy_df = pd.concat(\n",
    "    [gum_cohyponymy_df, ewt_cohyponymy_df, pud_cohyponymy_df], axis=0, ignore_index=True)\n",
    "all_entailment_df = pd.concat(\n",
    "    [gum_entailment_df, ewt_entailment_df, pud_entailment_df], axis=0, ignore_index=True)\n",
    "\n",
    "utils.pretty_print(all_synonymy_df[all_synonymy_df['Synonyms?']], 'rtf/synonyms.rtf')\n",
    "utils.pretty_print(all_antonymy_df[all_antonymy_df['Antonyms?']], 'rtf/antonyms.rtf')\n",
    "utils.pretty_print(all_hypernymy_df[all_hypernymy_df['1st Conjunct Hypernym?']], 'rtf/1st_hypernyms.rtf')\n",
    "utils.pretty_print(all_hypernymy_df[all_hypernymy_df['2nd Conjunct Hypernym?']], 'rtf/2nd_hypernyms.rtf')\n",
    "utils.pretty_print(all_cohyponymy_df[all_cohyponymy_df['Co-hyponyms?']], 'rtf/co-hyponyms.rtf')\n",
    "utils.pretty_print(all_entailment_df[all_entailment_df['1st Conjunct Entails 2nd?']], 'rtf/1st_entailments.rtf')\n",
    "utils.pretty_print(all_entailment_df[all_entailment_df['2nd Conjunct Entails 1st?']], 'rtf/2nd_entailments.rtf')"
   ]
  },
  {
   "cell_type": "markdown",
   "metadata": {},
   "source": [
    "# Synonymy"
   ]
  },
  {
   "cell_type": "code",
   "execution_count": 799,
   "metadata": {},
   "outputs": [],
   "source": [
    "def get_synonyms_freqs(df, raw=False):\n",
    "    # Get synonyms\n",
    "    syns = df.loc[(df['Synonyms?'] == True)]\n",
    "\n",
    "    # Get counts\n",
    "    syns_count = len(syns)\n",
    "    tot = len(df)\n",
    "\n",
    "    if raw:\n",
    "        return (syns_count, tot - syns_count)\n",
    "        \n",
    "    return syns_count / tot if tot != 0 else 0"
   ]
  },
  {
   "cell_type": "markdown",
   "metadata": {},
   "source": [
    "### By Conjunction"
   ]
  },
  {
   "cell_type": "code",
   "execution_count": 800,
   "metadata": {},
   "outputs": [
    {
     "name": "stdout",
     "output_type": "stream",
     "text": [
      "N=6920\n",
      "[[163, 23, 18], [5424, 681, 611]]\n",
      "Degrees of Freedom = 2\n",
      "[[ 164.70346821   20.75375723   18.54277457]\n",
      " [5422.29653179  683.24624277  610.45722543]]\n",
      "probability=0.950, critical=5.991, stat=0.285\n",
      "Independent (fail to reject H0)\n",
      "significance=0.050, p=0.867\n",
      "Independent (fail to reject H0)\n"
     ]
    },
    {
     "data": {
      "image/png": "[encoded data removed]",
      "text/plain": [
       "<Figure size 432x288 with 1 Axes>"
      ]
     },
     "metadata": {
      "needs_background": "light"
     },
     "output_type": "display_data"
    }
   ],
   "source": [
    "def synonym_conjunction_distribution(df, outfile, source=None):\n",
    "    distribution_by_conjunction(df, get_synonyms_freqs, \"Synonymy\", outfile, source=source)\n",
    "\n",
    "chi2_by_conjunction(all_synonymy_df, get_synonyms_freqs)\n",
    "synonym_conjunction_distribution(all_synonymy_df, 'charts/synonymy_by_conjunction.pdf')\n",
    "# synonym_conjunction_distribution(gum_synonymy_df, 'charts/GUM_synonymy_by_conjunction.pdf', source='GUM')\n",
    "# synonym_conjunction_distribution(ewt_synonymy_df, 'charts/EWT_synonymy_by_conjunction.pdf', source='EWT')\n",
    "# synonym_conjunction_distribution(pud_synonymy_df, 'charts/PUD_synonymy_by_conjunction.pdf', source='PUD')"
   ]
  },
  {
   "cell_type": "markdown",
   "metadata": {},
   "source": [
    "### By Category"
   ]
  },
  {
   "cell_type": "code",
   "execution_count": 801,
   "metadata": {},
   "outputs": [
    {
     "name": "stdout",
     "output_type": "stream",
     "text": [
      "N=6937\n",
      "[[38, 150, 15, 2], [2439, 3563, 625, 105]]\n",
      "Degrees of Freedom = 3\n",
      "[[7.31995099e+01 1.09725386e+02 1.89130748e+01 3.16202970e+00]\n",
      " [2.40380049e+03 3.60327461e+03 6.21086925e+02 1.03837970e+02]]\n",
      "probability=0.950, critical=7.815, stat=33.949\n",
      "Dependent (reject H0)\n",
      "significance=0.050, p=0.000\n",
      "Dependent (reject H0)\n"
     ]
    },
    {
     "data": {
      "image/png": "[encoded data removed]",
      "text/plain": [
       "<Figure size 432x288 with 1 Axes>"
      ]
     },
     "metadata": {
      "needs_background": "light"
     },
     "output_type": "display_data"
    }
   ],
   "source": [
    "def synonym_category_distribution(df, outfile, source=None):\n",
    "    distribution_by_category(df, get_synonyms_freqs, \"Synonymy\", outfile, source=source)\n",
    "\n",
    "chi2_by_category(all_synonymy_df, get_synonyms_freqs)\n",
    "synonym_category_distribution(all_synonymy_df, 'charts/synonymy_by_category.pdf')\n",
    "# synonym_category_distribution(gum_synonymy_df, 'charts/GUM_synonymy_by_category.pdf', source='GUM')\n",
    "# synonym_category_distribution(ewt_synonymy_df, 'charts/EWT_synonymy_by_category.pdf', source='EWT')\n",
    "# synonym_category_distribution(pud_synonymy_df, 'charts/PUD_synonymy_by_category.pdf', source='PUD')"
   ]
  },
  {
   "cell_type": "markdown",
   "metadata": {},
   "source": [
    "# Antonymy"
   ]
  },
  {
   "cell_type": "code",
   "execution_count": 802,
   "metadata": {},
   "outputs": [],
   "source": [
    "def get_antonyms_freqs(df, raw=False):\n",
    "    # Get antonyms\n",
    "    ants = df.loc[(df['Antonyms?'] == True)]\n",
    "    ants.reset_index(drop=True, inplace=True)\n",
    "\n",
    "    # Get counts\n",
    "    count_ants = len(ants.index)\n",
    "    tot = len(df.index)\n",
    "\n",
    "    if raw:\n",
    "        return (count_ants, tot - count_ants)\n",
    "    return count_ants / tot if tot != 0 else 0\n"
   ]
  },
  {
   "cell_type": "markdown",
   "metadata": {},
   "source": [
    "### By Conjunction"
   ]
  },
  {
   "cell_type": "code",
   "execution_count": 803,
   "metadata": {},
   "outputs": [
    {
     "name": "stdout",
     "output_type": "stream",
     "text": [
      "N=722\n",
      "[[38, 13, 1], [567, 51, 52]]\n",
      "Degrees of Freedom = 2\n",
      "[[ 43.5734072    4.60941828   3.81717452]\n",
      " [561.4265928   59.39058172  49.18282548]]\n",
      "probability=0.950, critical=5.991, stat=19.468\n",
      "Dependent (reject H0)\n",
      "significance=0.050, p=0.000\n",
      "Dependent (reject H0)\n"
     ]
    },
    {
     "data": {
      "image/png": "[encoded data removed]",
      "text/plain": [
       "<Figure size 432x288 with 1 Axes>"
      ]
     },
     "metadata": {
      "needs_background": "light"
     },
     "output_type": "display_data"
    }
   ],
   "source": [
    "def antonym_conjunction_distribution(df, outfile, source=None):\n",
    "    distribution_by_conjunction(df, get_antonyms_freqs, \"Antonymy\", outfile, source=source)\n",
    "\n",
    "chi2_by_conjunction(all_antonymy_df, get_antonyms_freqs)\n",
    "antonym_conjunction_distribution(all_antonymy_df, 'charts/antonymy_by_conjunction.pdf')\n",
    "# antonym_conjunction_distribution(gum_antonymy_df, 'charts/GUM_antonymy_by_conjunction.pdf', source='GUM')\n",
    "# antonym_conjunction_distribution(ewt_antonymy_df, 'charts/EWT_antonymy_by_conjunction.pdf', source='EWT')\n",
    "# antonym_conjunction_distribution(pud_antonymy_df, 'charts/PUD_antonymy_by_conjunction.pdf', source='PUD')"
   ]
  },
  {
   "cell_type": "markdown",
   "metadata": {},
   "source": [
    "### By Category"
   ]
  },
  {
   "cell_type": "code",
   "execution_count": 804,
   "metadata": {},
   "outputs": [
    {
     "name": "stdout",
     "output_type": "stream",
     "text": [
      "N=723\n",
      "[[37, 15], [583, 88]]\n",
      "Degrees of Freedom = 1\n",
      "[[ 44.59197787   7.40802213]\n",
      " [575.40802213  95.59197787]]\n",
      "probability=0.950, critical=3.841, stat=8.531\n",
      "Dependent (reject H0)\n",
      "significance=0.050, p=0.003\n",
      "Dependent (reject H0)\n"
     ]
    },
    {
     "data": {
      "image/png": "[encoded data removed]",
      "text/plain": [
       "<Figure size 432x288 with 1 Axes>"
      ]
     },
     "metadata": {
      "needs_background": "light"
     },
     "output_type": "display_data"
    }
   ],
   "source": [
    "def antonym_category_distribution(df, outfile, source=None):\n",
    "    distribution_by_category(df, get_antonyms_freqs, \"Antonymy\",\n",
    "        outfile, categories=[upos.ADJ, upos.ADV], source=source)\n",
    "\n",
    "chi2_by_category(all_antonymy_df, get_antonyms_freqs, categories=[upos.ADJ, upos.ADV])\n",
    "antonym_category_distribution(all_antonymy_df, 'charts/antonymy_by_category.pdf')\n",
    "# antonym_category_distribution(gum_antonymy_df, 'charts/GUM_antonymy_by_category.pdf', source='GUM')\n",
    "# antonym_category_distribution(ewt_antonymy_df, 'charts/EWT_antonymy_by_category.pdf', source='EWT')\n",
    "# antonym_category_distribution(pud_antonymy_df, 'charts/PUD_antonymy_by_category.pdf', source='PUD')"
   ]
  },
  {
   "cell_type": "markdown",
   "metadata": {},
   "source": [
    "# Hypernymy"
   ]
  },
  {
   "cell_type": "code",
   "execution_count": 805,
   "metadata": {},
   "outputs": [],
   "source": [
    "def get_hypernymy_freqs(df, raw=False):\n",
    "    tot = len(df.index)\n",
    "    df = df.loc[(df['1st Conjunct Hypernym?'] == True) | (df['2nd Conjunct Hypernym?'] == True)]\n",
    "    df = df.loc[(df['1st Conjunct Hypernym?']) != (df['2nd Conjunct Hypernym?'])]\n",
    "\n",
    "    # Get 1st conjunct hypernymy\n",
    "    hyps1 = df.loc[(df['1st Conjunct Hypernym?'] == True)]\n",
    "    hyps1.reset_index(drop=True, inplace=True)\n",
    "\n",
    "    # Get 2nd conjunct hypernymy\n",
    "    hyps2 = df.loc[(df['2nd Conjunct Hypernym?'] == True)]\n",
    "    hyps2.reset_index(drop=True, inplace=True)\n",
    "\n",
    "    # Get counts\n",
    "    count_hyps1 = len(hyps1.index)\n",
    "    count_hyps2 = len(hyps2.index)\n",
    "    \n",
    "    if raw:\n",
    "        return (count_hyps1, count_hyps2)\n",
    "\n",
    "    return (count_hyps1 / tot, count_hyps2 / tot) if tot != 0 else (0,0)"
   ]
  },
  {
   "cell_type": "markdown",
   "metadata": {},
   "source": [
    "### By Conjunction"
   ]
  },
  {
   "cell_type": "code",
   "execution_count": 806,
   "metadata": {},
   "outputs": [
    {
     "name": "stdout",
     "output_type": "stream",
     "text": [
      "N=742\n",
      "[[277, 37, 42], [301, 49, 36]]\n",
      "Degrees of Freedom = 2\n",
      "[[277.31536388  41.26145553  37.42318059]\n",
      " [300.68463612  44.73854447  40.57681941]]\n",
      "probability=0.950, critical=5.991, stat=1.923\n",
      "Independent (fail to reject H0)\n",
      "significance=0.050, p=0.382\n",
      "Independent (fail to reject H0)\n",
      "All Data\n",
      "\n",
      "and\n",
      "\n",
      "or\n",
      "\n",
      "but\n",
      "\n",
      "\n"
     ]
    },
    {
     "data": {
      "image/png": "[encoded data removed]",
      "text/plain": [
       "<Figure size 432x288 with 1 Axes>"
      ]
     },
     "metadata": {
      "needs_background": "light"
     },
     "output_type": "display_data"
    }
   ],
   "source": [
    "def hypernymy_conjunction_distribution(df, outfile, source=None):\n",
    "    double_distribution_by_conjunction(df, get_hypernymy_freqs, \"Hypernymy\",\n",
    "    ('First Conjunct Hypernym', 'Second Conjunct Hypernym'), outfile, source=source)\n",
    "\n",
    "chi2_by_conjunction(all_hypernymy_df, get_hypernymy_freqs)\n",
    "hypernymy_conjunction_distribution(all_hypernymy_df, 'charts/hypernymy_by_conjunction.pdf')\n",
    "# hypernymy_conjunction_distribution(gum_hypernymy_df, 'charts/GUM_hypernymy_by_conjunction.pdf', source='GUM')\n",
    "# hypernymy_conjunction_distribution(ewt_hypernymy_df, 'charts/EWT_hypernymy_by_conjunction.pdf', source='EWT')\n",
    "# hypernymy_conjunction_distribution(pud_hypernymy_df, 'charts/PUD_hypernymy_by_conjunction.pdf', source='PUD')"
   ]
  },
  {
   "cell_type": "markdown",
   "metadata": {},
   "source": [
    "### By Category"
   ]
  },
  {
   "cell_type": "code",
   "execution_count": 807,
   "metadata": {},
   "outputs": [
    {
     "name": "stdout",
     "output_type": "stream",
     "text": [
      "N=743\n",
      "[[112, 244], [117, 270]]\n",
      "Degrees of Freedom = 1\n",
      "[[109.72274563 246.27725437]\n",
      " [119.27725437 267.72274563]]\n",
      "probability=0.950, critical=3.841, stat=0.080\n",
      "Independent (fail to reject H0)\n",
      "significance=0.050, p=0.777\n",
      "Independent (fail to reject H0)\n",
      "All Data\n",
      "\n",
      "Nominal\n",
      "Verbal\n",
      "\n"
     ]
    },
    {
     "data": {
      "image/png": "[encoded data removed]",
      "text/plain": [
       "<Figure size 432x288 with 1 Axes>"
      ]
     },
     "metadata": {
      "needs_background": "light"
     },
     "output_type": "display_data"
    }
   ],
   "source": [
    "def hypernymy_category_distribution(df, outfile, source=None):\n",
    "    double_distribution_by_category(df, get_hypernymy_freqs, \"Hypernymy\",\n",
    "        ('First Conjunct Hypernym', 'Second Conjunct Hypernym'), outfile,\n",
    "        categories=[upos.NOUN, upos.VERB], source=source)\n",
    "\n",
    "chi2_by_category(all_hypernymy_df, get_hypernymy_freqs, categories=[upos.NOUN, upos.VERB])\n",
    "hypernymy_category_distribution(all_hypernymy_df, 'charts/hypernymy_by_category.pdf')\n",
    "# hypernymy_category_distribution(gum_hypernymy_df, 'charts/GUM_hypernymy_by_category.pdf', source='GUM')\n",
    "# hypernymy_category_distribution(ewt_hypernymy_df, 'charts/EWT_hypernymy_by_category.pdf', source='EWT')\n",
    "# hypernymy_category_distribution(pud_hypernymy_df, 'charts/PUD_hypernymy_by_category.pdf', source='PUD')"
   ]
  },
  {
   "cell_type": "markdown",
   "metadata": {},
   "source": [
    "# Co-Hyponymy"
   ]
  },
  {
   "cell_type": "code",
   "execution_count": 808,
   "metadata": {},
   "outputs": [],
   "source": [
    "def get_cohyponyms_freqs(df, raw=False):\n",
    "    # Get co-hyponymy\n",
    "    hyps = df.loc[(df['Co-hyponyms?'] == True)]\n",
    "    hyps.reset_index(drop=True, inplace=True)\n",
    "\n",
    "    # Get counts\n",
    "    count_hyps = len(hyps.index)\n",
    "    tot = len(df.index)\n",
    "\n",
    "    if raw:\n",
    "        return (count_hyps, tot - count_hyps)\n",
    "        \n",
    "    return count_hyps / tot if tot != 0 else 0"
   ]
  },
  {
   "cell_type": "markdown",
   "metadata": {},
   "source": [
    "### By Conjunction"
   ]
  },
  {
   "cell_type": "code",
   "execution_count": 809,
   "metadata": {},
   "outputs": [
    {
     "name": "stdout",
     "output_type": "stream",
     "text": [
      "N=6174\n",
      "[[837, 101, 92], [4129, 532, 483]]\n",
      "Degrees of Freedom = 2\n",
      "[[ 828.47100745  105.60252672   95.92646582]\n",
      " [4137.52899255  527.39747328  479.07353418]]\n",
      "probability=0.950, critical=5.991, stat=0.539\n",
      "Independent (fail to reject H0)\n",
      "significance=0.050, p=0.764\n",
      "Independent (fail to reject H0)\n"
     ]
    },
    {
     "data": {
      "image/png": "[encoded data removed]",
      "text/plain": [
       "<Figure size 432x288 with 1 Axes>"
      ]
     },
     "metadata": {
      "needs_background": "light"
     },
     "output_type": "display_data"
    }
   ],
   "source": [
    "def cohyponymy_conjunction_distribution(df, outfile, source=None):\n",
    "    distribution_by_conjunction(df, get_cohyponyms_freqs, \"Co-hyponymy\", outfile, source=source)\n",
    "\n",
    "chi2_by_conjunction(all_cohyponymy_df, get_cohyponyms_freqs)\n",
    "cohyponymy_conjunction_distribution(all_cohyponymy_df, 'charts/cohyponymy_by_conjunction.pdf')\n",
    "# cohyponymy_conjunction_distribution(gum_cohyponymy_df, 'charts/GUM_cohyponymy_by_conjunction.pdf', source='GUM')\n",
    "# cohyponymy_conjunction_distribution(ewt_cohyponymy_df, 'charts/EWT_cohyponymy_by_conjunction.pdf', source='EWT')\n",
    "# cohyponymy_conjunction_distribution(pud_cohyponymy_df, 'charts/PUD_cohyponymy_by_conjunction.pdf', source='PUD')"
   ]
  },
  {
   "cell_type": "markdown",
   "metadata": {},
   "source": [
    "### By Category"
   ]
  },
  {
   "cell_type": "code",
   "execution_count": 810,
   "metadata": {},
   "outputs": [
    {
     "name": "stdout",
     "output_type": "stream",
     "text": [
      "N=6190\n",
      "[[280, 751], [2197, 2962]]\n",
      "Degrees of Freedom = 1\n",
      "[[ 412.56655897  618.43344103]\n",
      " [2064.43344103 3094.56655897]]\n",
      "probability=0.950, critical=3.841, stat=84.563\n",
      "Dependent (reject H0)\n",
      "significance=0.050, p=0.000\n",
      "Dependent (reject H0)\n"
     ]
    },
    {
     "data": {
      "image/png": "[encoded data removed]",
      "text/plain": [
       "<Figure size 432x288 with 1 Axes>"
      ]
     },
     "metadata": {
      "needs_background": "light"
     },
     "output_type": "display_data"
    }
   ],
   "source": [
    "def cohyponymy_category_distribution(df, outfile, source=None):\n",
    "    distribution_by_category(df, get_cohyponyms_freqs, \"Co-hyponymy\", outfile,\n",
    "        categories=[upos.NOUN, upos.VERB], source=source)\n",
    "\n",
    "chi2_by_category(all_cohyponymy_df, get_cohyponyms_freqs, categories=[upos.NOUN, upos.VERB])\n",
    "cohyponymy_category_distribution(all_cohyponymy_df, 'charts/cohyponymy_by_category.pdf')\n",
    "# cohyponymy_category_distribution(gum_cohyponymy_df, 'charts/GUM_cohyponymy_by_category.pdf', source='GUM')\n",
    "# cohyponymy_category_distribution(ewt_cohyponymy_df, 'charts/EWT_cohyponymy_by_category.pdf', source='EWT')\n",
    "# cohyponymy_category_distribution(pud_cohyponymy_df, 'charts/PUD_cohyponymy_by_category.pdf', source='PUD')"
   ]
  },
  {
   "cell_type": "markdown",
   "metadata": {},
   "source": [
    "# Entailment"
   ]
  },
  {
   "cell_type": "code",
   "execution_count": 811,
   "metadata": {},
   "outputs": [],
   "source": [
    "def get_entailment_freqs(df, raw=False):\n",
    "    tot = len(df.index)\n",
    "    \n",
    "    df = df.loc[(df['1st Conjunct Entails 2nd?'] == True) | (df['2nd Conjunct Entails 1st?'] == True)]\n",
    "    df = df.loc[(df['1st Conjunct Entails 2nd?']) != (df['2nd Conjunct Entails 1st?'])]\n",
    "\n",
    "    # Get 1st conjunct entailment\n",
    "    entl1 = df.loc[(df['1st Conjunct Entails 2nd?'] == True)]\n",
    "    entl1.reset_index(drop=True, inplace=True)\n",
    "\n",
    "    # Get 2nd conjunct entailment\n",
    "    entl2 = df.loc[(df['2nd Conjunct Entails 1st?'] == True)]\n",
    "    entl2.reset_index(drop=True, inplace=True)\n",
    "\n",
    "    # Get counts\n",
    "    count_entl1 = len(entl1.index)\n",
    "    count_entl2 = len(entl2.index)\n",
    "    \n",
    "    if raw:\n",
    "        return (count_entl1, count_entl2)\n",
    "\n",
    "    return (count_entl1 / tot, count_entl2 / tot) if tot != 0 else (0,0)"
   ]
  },
  {
   "cell_type": "markdown",
   "metadata": {},
   "source": [
    "# By Conjunction"
   ]
  },
  {
   "cell_type": "code",
   "execution_count": 812,
   "metadata": {},
   "outputs": [
    {
     "name": "stdout",
     "output_type": "stream",
     "text": [
      "N=33\n",
      "[[9, 0, 4], [17, 1, 2]]\n",
      "Degrees of Freedom = 2\n",
      "[[10.24242424  0.39393939  2.36363636]\n",
      " [15.75757576  0.60606061  3.63636364]]\n",
      "probability=0.950, critical=5.991, stat=2.768\n",
      "Independent (fail to reject H0)\n",
      "significance=0.050, p=0.251\n",
      "Independent (fail to reject H0)\n",
      "All Data\n",
      "\n",
      "and\n",
      "\n",
      "or\n",
      "\n",
      "but\n",
      "\n",
      "\n"
     ]
    },
    {
     "data": {
      "image/png": "[encoded data removed]",
      "text/plain": [
       "<Figure size 432x288 with 1 Axes>"
      ]
     },
     "metadata": {
      "needs_background": "light"
     },
     "output_type": "display_data"
    }
   ],
   "source": [
    "def entailment_conjunction_distribution(df, outfile, source=None):\n",
    "    double_distribution_by_conjunction(df, get_entailment_freqs, \"Entailment\",\n",
    "        ('First Conjunct Entails Second', 'Second Conjunct Entails First'), outfile,\n",
    "        source=source)\n",
    "\n",
    "chi2_by_conjunction(all_entailment_df, get_entailment_freqs)\n",
    "entailment_conjunction_distribution(all_entailment_df, 'charts/entailment_by_conjunction.pdf')\n",
    "# entailment_conjunction_distribution(gum_entailment_df, 'charts/GUM_entailment_by_conjunction.pdf', source='GUM')\n",
    "# entailment_conjunction_distribution(ewt_entailment_df, 'charts/EWT_entailment_by_conjunction.pdf', source='EWT')\n",
    "# entailment_conjunction_distribution(pud_entailment_df, 'charts/PUD_entailment_by_conjunction.pdf', source='PUD')"
   ]
  }
 ],
 "metadata": {
  "interpreter": {
   "hash": "90d1250365b552bac7bd3e3505e64c228a1a6f7c9121581557d7a3f6f706e389"
  },
  "kernelspec": {
   "display_name": "Python 3.8.8 64-bit ('env': venv)",
   "name": "python3"
  },
  "language_info": {
   "codemirror_mode": {
    "name": "ipython",
    "version": 3
   },
   "file_extension": ".py",
   "mimetype": "text/x-python",
   "name": "python",
   "nbconvert_exporter": "python",
   "pygments_lexer": "ipython3",
   "version": "3.7.4"
  },
  "orig_nbformat": 4
 },
 "nbformat": 4,
 "nbformat_minor": 2
}
