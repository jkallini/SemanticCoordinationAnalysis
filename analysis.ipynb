{
 "cells": [
  {
   "cell_type": "code",
   "execution_count": 43,
   "source": [
    "import pandas as pd\n",
    "import utils"
   ],
   "outputs": [],
   "metadata": {}
  },
  {
   "cell_type": "code",
   "execution_count": 44,
   "source": [
    "# Conjunctions under analysis\n",
    "CONJUNCTIONS = ['and', 'or', 'but', 'nor']\n",
    "\n",
    "# Categories under analysis\n",
    "NOUN_CATEGORIES = ['NN', 'NNS', 'NNP', 'NNPS', 'NP', 'NX']\n",
    "VERB_CATEGORIES = ['VB', 'VBD', 'VBG', 'VBN', 'VBP', 'VBZ', 'VP']\n",
    "ADJ_CATEGORIES = ['JJ', 'JJR', 'JJS', 'ADJP']\n",
    "ADV_CATEGORIES = ['RB', 'RBR', 'RBS', 'ADVP']\n",
    "\n",
    "PHRASAL_CATEGORIES = ['NP', 'VP', 'ADJP', 'ADVP']"
   ],
   "outputs": [],
   "metadata": {}
  },
  {
   "cell_type": "code",
   "execution_count": 59,
   "source": [
    "def likes_df(df):\n",
    "    '''\n",
    "    Returns a DataFrame of the like coordinations contained in the\n",
    "    given DataFrame.\n",
    "\n",
    "    Keyword Arguments:\n",
    "        df -- DataFrame containing coordinations\n",
    "    Return:\n",
    "        Dataframe of like coordinations\n",
    "    '''\n",
    "    \n",
    "    nouns = df[(df['1st Conjunct Category'].isin(NOUN_CATEGORIES)) & (\n",
    "        df['2nd Conjunct Category'].isin(NOUN_CATEGORIES))]\n",
    "\n",
    "    verbs = df[(df['1st Conjunct Category'].isin(VERB_CATEGORIES)) & (\n",
    "        df['2nd Conjunct Category'].isin(VERB_CATEGORIES))]\n",
    "\n",
    "    adjps = df[(df['1st Conjunct Category'].isin(ADJ_CATEGORIES)) & (\n",
    "        df['2nd Conjunct Category'].isin(ADJ_CATEGORIES))]\n",
    "\n",
    "    advps = df[(df['1st Conjunct Category'].isin(ADV_CATEGORIES)) & (\n",
    "        df['2nd Conjunct Category'].isin(ADV_CATEGORIES))]\n",
    "\n",
    "    likes = pd.concat([nouns, verbs, adjps, advps],\n",
    "                      axis=0, ignore_index=True)\n",
    "\n",
    "    return likes\n",
    "\n",
    "\n",
    "def unlikes_df(df):\n",
    "    '''\n",
    "    Returns a DataFrame of the unlike coordinations contained in the\n",
    "    given DataFrame.\n",
    "\n",
    "    Keyword Arguments:\n",
    "        df -- DataFrame containing coordinations\n",
    "    Return:\n",
    "        Dataframe of unlike coordinations\n",
    "    '''\n",
    "\n",
    "    df = df[df['1st Conjunct Category'].isin(PHRASAL_CATEGORIES)]\n",
    "    df = df[df['2nd Conjunct Category'].isin(PHRASAL_CATEGORIES)]\n",
    "\n",
    "    # Get unlike category combinations\n",
    "    unlikes = df.loc[df['1st Conjunct Category']\n",
    "                     != df['2nd Conjunct Category']]\n",
    "\n",
    "    return unlikes"
   ],
   "outputs": [],
   "metadata": {}
  },
  {
   "cell_type": "code",
   "execution_count": 46,
   "source": [
    "# Load CSV file with coordination samples\n",
    "samples = pd.read_csv(\"csv/samples.csv\", index_col=None, header=0)\n",
    "\n",
    "# Load CSV files with raters' judgments\n",
    "rater1 = pd.read_csv(\"csv/raters/rater1.csv\", index_col=None, header=0)\n",
    "rater2 = pd.read_csv(\"csv/raters/rater2.csv\", index_col=None, header=0)\n",
    "rater3 = pd.read_csv(\"csv/raters/rater3.csv\", index_col=None, header=0)\n",
    "\n",
    "# Take majority of three raters' judgments\n",
    "r1 = rater1['Correct?']\n",
    "r2 = rater2['Correct?']\n",
    "r3 = rater3['Correct?']\n",
    "samples['Correct? (Majority)'] = r1 & r2 & r3\n",
    "correct = samples[samples['Correct? (Majority)']]\n",
    "correct.to_csv('csv/correct_samples.csv')"
   ],
   "outputs": [],
   "metadata": {}
  },
  {
   "cell_type": "code",
   "execution_count": 63,
   "source": [
    "unlikes = unlikes_df(correct)\n",
    "likes = likes_df(correct)"
   ],
   "outputs": [],
   "metadata": {}
  }
 ],
 "metadata": {
  "orig_nbformat": 4,
  "language_info": {
   "name": "python",
   "version": "3.7.4",
   "mimetype": "text/x-python",
   "codemirror_mode": {
    "name": "ipython",
    "version": 3
   },
   "pygments_lexer": "ipython3",
   "nbconvert_exporter": "python",
   "file_extension": ".py"
  },
  "kernelspec": {
   "name": "python3",
   "display_name": "Python 3.8.8 64-bit ('env': venv)"
  },
  "interpreter": {
   "hash": "90d1250365b552bac7bd3e3505e64c228a1a6f7c9121581557d7a3f6f706e389"
  }
 },
 "nbformat": 4,
 "nbformat_minor": 2
}